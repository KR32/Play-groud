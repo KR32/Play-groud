{
 "cells": [
  {
   "cell_type": "code",
   "execution_count": 2,
   "metadata": {},
   "outputs": [
    {
     "name": "stdout",
     "output_type": "stream",
     "text": [
      "rollno:  [1, 2, 3, 4, 5]\n",
      "name:  ['john', 'jane', 'jim', 'james', 'jenny']\n",
      "name[rollno.index(2)] before deletion:  jane\n",
      "name[rollno.index(2)] after deletion:  jim\n",
      "before create: {1: 'john', 2: 'jane', 3: 'jim', 4: 'james', 5: 'jenny'}\n",
      "after create: {1: 'john', 2: 'jane', 3: 'jim', 4: 'james', 5: 'jenny', 6: 'jimmy'}\n",
      "student with rollno 6 is: jimmy\n",
      "before update: {1: 'john', 2: 'jane', 3: 'jim', 4: 'james', 5: 'jenny', 6: 'jimmy'}\n",
      "after update: {1: 'john', 2: 'jane', 3: 'jim', 4: 'james', 5: 'jenny', 6: 'jimmy james'}\n",
      "before delete: {1: 'john', 2: 'jane', 3: 'jim', 4: 'james', 5: 'jenny', 6: 'jimmy james'}\n",
      "after delete: {1: 'john', 2: 'jane', 3: 'jim', 4: 'james', 5: 'jenny'}\n"
     ]
    }
   ],
   "source": [
    "# hashing / hash map / hash table \n",
    "# representation of a dictionary \n",
    "# key-value pairs\n",
    "# key: value\n",
    "\n",
    "# assume we have student db with student rollno\n",
    "\n",
    "# firstly i created two lists, one for rollno and one for name\n",
    "rollno = [1,2,3,4,5]\n",
    "name = [\"john\",\"jane\",\"jim\",\"james\",\"jenny\"]\n",
    "\n",
    "print(\"rollno: \",rollno)\n",
    "print(\"name: \",name)\n",
    "# we can access the name of a student using the rollno easily \n",
    "# because we have a list of names and a list of rollnos\n",
    "# eg: name[rollno.index(1)] will return \"john\"\n",
    "\n",
    "# now i want to delete \"jane\" from the list\n",
    "print(\"name[rollno.index(2)] before deletion: \",name[rollno.index(2)])\n",
    "name.remove(\"jane\")\n",
    "print(\"name[rollno.index(2)] after deletion: \",name[rollno.index(2)])\n",
    "\n",
    "# currently we have 5 rollnos and 4 names.now, the student with rollno 2 is \"jim\" which it should not be!\n",
    "\n",
    "# here the hash table/map comes to play\n",
    "# we can create a hash table using a dictionary\n",
    "\n",
    "# create a dictionary that has a key as rollno and value as name\n",
    "\n",
    "stdnt = {1:\"john\",2:\"jane\",3:\"jim\",4:\"james\",5:\"jenny\"}\n",
    "\n",
    "# now we can do the CRUD operations on the dictionary\n",
    "\n",
    "# create\n",
    "print(\"before create:\",stdnt)\n",
    "stdnt[6] = \"jimmy\"\n",
    "print(\"after create:\",stdnt)\n",
    "\n",
    "\n",
    "# read\n",
    "print(\"student with rollno 6 is:\",stdnt[6])\n",
    "\n",
    "# update\n",
    "print(\"before update:\",stdnt)\n",
    "stdnt[6] = \"jimmy james\"\n",
    "print(\"after update:\",stdnt)\n",
    "\n",
    "# delete\n",
    "print(\"before delete:\",stdnt)\n",
    "del stdnt[6]\n",
    "print(\"after delete:\",stdnt)\n",
    "\n",
    "# whollaa.. that is it!"
   ]
  },
  {
   "cell_type": "code",
   "execution_count": 3,
   "metadata": {},
   "outputs": [],
   "source": [
    "# lets see how we can use the dictionary to implement a hash table\n",
    "\n",
    "class HashTable:\n",
    "    def __init__(self):\n",
    "        self.MAX = 10\n",
    "        self.arr = [None] * self.MAX\n",
    "\n",
    "    def hash_func(self,key):\n",
    "        hash = 0\n",
    "        for char in str(key):\n",
    "            hash += ord(char) # ord() returns the ascii value of the character\n",
    "        return hash % self.MAX\n",
    "\n",
    "    # this is the setter method which allows you to set the value like this: ht[key] = value\n",
    "    # refer here for more info: https://docs.python.org/3/library/operator.html\n",
    "    def __setitem__(self, key, value): \n",
    "        hash = self.hash_func(key)\n",
    "        self.arr[hash] = value\n",
    "\n",
    "    # this is the getter method which allows you to get the value like this: ht[key]\n",
    "    # refer here for more info: https://docs.python.org/3/library/operator.html\n",
    "    def __getitem__(self, key): \n",
    "        hash = self.hash_func(key)\n",
    "        return self.arr[hash]\n"
   ]
  },
  {
   "cell_type": "code",
   "execution_count": 5,
   "metadata": {},
   "outputs": [
    {
     "name": "stdout",
     "output_type": "stream",
     "text": [
      "[None, None, None, None, None, None, None, None, None, None]\n",
      "['jane', None, None, None, None, None, None, None, None, 'john']\n"
     ]
    }
   ],
   "source": [
    "ht = HashTable()\n",
    "print(ht.arr)\n",
    "ht[1] = \"john\"\n",
    "ht[2] = \"jane\"\n",
    "print(ht.arr)"
   ]
  },
  {
   "cell_type": "code",
   "execution_count": 6,
   "metadata": {},
   "outputs": [
    {
     "name": "stdout",
     "output_type": "stream",
     "text": [
      "ascii value of 1:  49\n",
      "hash => 9\n",
      "value of ht[1]:  john\n"
     ]
    }
   ],
   "source": [
    "ascii = ord(\"1\")\n",
    "print(\"ascii value of 1: \",ascii)\n",
    "print(\"hash =>\", ascii%10) \n",
    "print(\"value of ht[1]: \",ht[1])"
   ]
  },
  {
   "cell_type": "code",
   "execution_count": 7,
   "metadata": {},
   "outputs": [
    {
     "name": "stdout",
     "output_type": "stream",
     "text": [
      "ascii value of 2:  50\n",
      "hash => 0\n",
      "value of ht[2]:  jane\n"
     ]
    }
   ],
   "source": [
    "ascii = ord(\"2\")\n",
    "print(\"ascii value of 2: \",ascii)\n",
    "print(\"hash =>\", ascii%10)\n",
    "print(\"value of ht[2]: \",ht[2])"
   ]
  },
  {
   "cell_type": "code",
   "execution_count": 44,
   "metadata": {},
   "outputs": [
    {
     "data": {
      "text/plain": [
       "{'MAX': 10,\n",
       " 'arr': ['jane', None, None, None, None, None, None, None, None, 'john']}"
      ]
     },
     "execution_count": 44,
     "metadata": {},
     "output_type": "execute_result"
    }
   ],
   "source": [
    "ht.__dict__"
   ]
  },
  {
   "cell_type": "code",
   "execution_count": null,
   "metadata": {},
   "outputs": [],
   "source": []
  }
 ],
 "metadata": {
  "interpreter": {
   "hash": "7986af9e856f45b0d08160d490b7d71a8573aab2acfdbb4c4775b5f9068a6850"
  },
  "kernelspec": {
   "display_name": "Python 3.9.0 64-bit",
   "language": "python",
   "name": "python3"
  },
  "language_info": {
   "codemirror_mode": {
    "name": "ipython",
    "version": 3
   },
   "file_extension": ".py",
   "mimetype": "text/x-python",
   "name": "python",
   "nbconvert_exporter": "python",
   "pygments_lexer": "ipython3",
   "version": "3.9.0"
  },
  "orig_nbformat": 4
 },
 "nbformat": 4,
 "nbformat_minor": 2
}
