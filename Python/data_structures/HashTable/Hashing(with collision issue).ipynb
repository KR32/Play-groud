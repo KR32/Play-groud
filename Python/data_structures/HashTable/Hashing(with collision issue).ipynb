{
 "cells": [
  {
   "cell_type": "code",
   "execution_count": null,
   "metadata": {},
   "outputs": [],
   "source": [
    "# hash table with collision issue"
   ]
  },
  {
   "cell_type": "markdown",
   "metadata": {},
   "source": [
    "lets assume the below data is the one we are using\n",
    "```\n",
    "stdnt = {\n",
    "    \"march 6\": 20,\n",
    "    \"march 7\": 30,\n",
    "    \"march 8\": 40,\n",
    "    \"march 9\": 50,\n",
    "    \"march 17\": 130\n",
    "}\n",
    "```\n",
    "\n",
    "while implementing the Hash Table, our hash_function used to choose an index for the key. \n",
    "\n",
    "what if two keys have the same hash value?\n",
    "\n",
    "more than one having the same hash value will lead to collision\n",
    "\n",
    "# chaining technique:\n",
    "* we can use a technique called chaining to resolve the collision\n",
    "* chaining is a technique where we store the values in a list\n",
    "* we can store the values in a list and then access the list \n",
    "# linear probing technique:\n",
    "* the linear probing technique is used to solve the collision\n",
    "* the idea is to keep a list of all the keys in the hash table\n",
    "* and then check if the key is present in the list or not\n",
    "* if it is present, then we can use the next index in the list\n",
    "* if it is not present, then we can use the index directly\n",
    "\n",
    "first, create the minimal reproducible issue."
   ]
  },
  {
   "cell_type": "code",
   "execution_count": 1,
   "metadata": {},
   "outputs": [],
   "source": [
    "# lets create a hash table with collision issue\n",
    "\n",
    "class HashTableWithCollision:\n",
    "    def __init__(self):\n",
    "        self.MAX = 10\n",
    "        self.arr = [None] * self.MAX\n",
    "\n",
    "    def hash_func(self,key):\n",
    "        hash = 0\n",
    "        for char in str(key):\n",
    "            hash += ord(char) # ord() returns the ascii value of the character\n",
    "        return hash % self.MAX\n",
    "\n",
    "    # this is the setter method which allows you to set the value like this: ht[key] = value\n",
    "    # refer here for more info: https://docs.python.org/3/library/operator.html\n",
    "    def __setitem__(self, key, value): \n",
    "        hash = self.hash_func(key)\n",
    "        self.arr[hash] = value\n",
    "\n",
    "    # this is the getter method which allows you to get the value like this: ht[key]\n",
    "    # refer here for more info: https://docs.python.org/3/library/operator.html\n",
    "    def __getitem__(self, key): \n",
    "        hash = self.hash_func(key)\n",
    "        return self.arr[hash]\n"
   ]
  },
  {
   "cell_type": "code",
   "execution_count": 2,
   "metadata": {},
   "outputs": [],
   "source": [
    "# first of all we need to know how our hash_func works\n",
    "# it iterates the key's characters and adds the ascii value of each character to the hash value\n",
    "# and then modulo the hash value with the size of the array\n",
    "# the result will be the index of the array where the value will be stored\n",
    "# for example:\n",
    "\n",
    "htwc = HashTableWithCollision()\n",
    "\n",
    "htwc[\"march 6\"] = 20\n",
    "htwc[\"march 7\"] = 30\n",
    "htwc[\"march 8\"] = 40\n",
    "htwc[\"march 9\"] = 50\n",
    "htwc[\"march 17\"] = 130"
   ]
  },
  {
   "cell_type": "code",
   "execution_count": 17,
   "metadata": {},
   "outputs": [
    {
     "name": "stdout",
     "output_type": "stream",
     "text": [
      "hash value for march 6 => 9\n"
     ]
    },
    {
     "data": {
      "text/plain": [
       "130"
      ]
     },
     "execution_count": 17,
     "metadata": {},
     "output_type": "execute_result"
    }
   ],
   "source": [
    "print(\"hash value for march 6 =>\",htwc.hash_func(\"march 6\"))\n",
    "htwc[\"march 6\"]"
   ]
  },
  {
   "cell_type": "code",
   "execution_count": 18,
   "metadata": {},
   "outputs": [
    {
     "name": "stdout",
     "output_type": "stream",
     "text": [
      "hash value for march 17 => 9\n"
     ]
    },
    {
     "data": {
      "text/plain": [
       "130"
      ]
     },
     "execution_count": 18,
     "metadata": {},
     "output_type": "execute_result"
    }
   ],
   "source": [
    "print(\"hash value for march 17 =>\",htwc.hash_func(\"march 17\"))\n",
    "htwc[\"march 17\"]"
   ]
  },
  {
   "cell_type": "code",
   "execution_count": 3,
   "metadata": {},
   "outputs": [
    {
     "data": {
      "text/plain": [
       "[30, 40, 50, None, None, None, None, None, None, 130]"
      ]
     },
     "execution_count": 3,
     "metadata": {},
     "output_type": "execute_result"
    }
   ],
   "source": [
    "htwc.arr"
   ]
  },
  {
   "cell_type": "code",
   "execution_count": 4,
   "metadata": {},
   "outputs": [],
   "source": [
    "# lets create a hash table without collision issue\n",
    "# here we are using a chaining technique\n",
    "\n",
    "class HashTableWithChaining:\n",
    "    def __init__(self):\n",
    "        self.MAX = 10\n",
    "        self.arr = [[] for i in range(self.MAX)]\n",
    "\n",
    "    def hash_func(self,key):\n",
    "        hash = 0\n",
    "        for char in str(key):\n",
    "            hash += ord(char) \n",
    "        return hash % self.MAX\n",
    "\n",
    "    def __setitem__(self, key, val): \n",
    "        h = self.hash_func(key)\n",
    "        found = False\n",
    "        for idx, element in enumerate(self.arr[h]):\n",
    "            if len(element)==2 and element[0] == key:\n",
    "                self.arr[h].append((key,val))\n",
    "                found = True\n",
    "        if not found:\n",
    "            self.arr[h].append((key,val))\n",
    "\n",
    "    def __getitem__(self, key):\n",
    "        hash = self.hash_func(key)\n",
    "        found = False\n",
    "        for i in self.arr[hash]:\n",
    "            if i[0] == key:\n",
    "                found = True\n",
    "                return i[1]\n",
    "        if not found:\n",
    "            raise KeyError(key)\n",
    "        \n",
    "\n",
    "    def __delitem__(self, key):\n",
    "        hash = self.hash_func(key)\n",
    "        found = False\n",
    "        for idx,el in enumerate(self.arr[hash]):\n",
    "            if len(el) == 2 and el[0] == key:\n",
    "                found == True\n",
    "                del self.arr[hash][idx]\n",
    "                return\n",
    "        if not found:\n",
    "            raise KeyError(key)\n",
    "\n"
   ]
  },
  {
   "cell_type": "code",
   "execution_count": 5,
   "metadata": {},
   "outputs": [
    {
     "data": {
      "text/plain": [
       "[[], [], [], [], [], [], [], [], [], []]"
      ]
     },
     "execution_count": 5,
     "metadata": {},
     "output_type": "execute_result"
    }
   ],
   "source": [
    "htwchaining = HashTableWithChaining()\n",
    "\n",
    "htwchaining.arr"
   ]
  },
  {
   "cell_type": "code",
   "execution_count": 7,
   "metadata": {},
   "outputs": [],
   "source": [
    "htwchaining[\"march 6\"] = 20\n",
    "htwchaining[\"march 7\"] = 30\n",
    "htwchaining[\"march 8\"] = 40\n",
    "htwchaining[\"march 9\"] = 50\n",
    "htwchaining[\"march 17\"] = 130"
   ]
  },
  {
   "cell_type": "code",
   "execution_count": 8,
   "metadata": {},
   "outputs": [
    {
     "data": {
      "text/plain": [
       "[[('march 7', 30)],\n",
       " [('march 8', 40)],\n",
       " [('march 9', 50)],\n",
       " [],\n",
       " [],\n",
       " [],\n",
       " [],\n",
       " [],\n",
       " [],\n",
       " [('march 6', 20), ('march 17', 130)]]"
      ]
     },
     "execution_count": 8,
     "metadata": {},
     "output_type": "execute_result"
    }
   ],
   "source": [
    "htwchaining.arr"
   ]
  },
  {
   "cell_type": "code",
   "execution_count": 9,
   "metadata": {},
   "outputs": [
    {
     "data": {
      "text/plain": [
       "20"
      ]
     },
     "execution_count": 9,
     "metadata": {},
     "output_type": "execute_result"
    }
   ],
   "source": [
    "htwchaining[\"march 6\"]"
   ]
  },
  {
   "cell_type": "code",
   "execution_count": 10,
   "metadata": {},
   "outputs": [
    {
     "data": {
      "text/plain": [
       "130"
      ]
     },
     "execution_count": 10,
     "metadata": {},
     "output_type": "execute_result"
    }
   ],
   "source": [
    "htwchaining[\"march 17\"]"
   ]
  },
  {
   "cell_type": "code",
   "execution_count": 11,
   "metadata": {},
   "outputs": [],
   "source": [
    "del htwchaining[\"march 17\"]"
   ]
  },
  {
   "cell_type": "code",
   "execution_count": 12,
   "metadata": {},
   "outputs": [
    {
     "data": {
      "text/plain": [
       "[[('march 7', 30)],\n",
       " [('march 8', 40)],\n",
       " [('march 9', 50)],\n",
       " [],\n",
       " [],\n",
       " [],\n",
       " [],\n",
       " [],\n",
       " [],\n",
       " [('march 6', 20)]]"
      ]
     },
     "execution_count": 12,
     "metadata": {},
     "output_type": "execute_result"
    }
   ],
   "source": [
    "htwchaining.arr"
   ]
  },
  {
   "cell_type": "code",
   "execution_count": null,
   "metadata": {},
   "outputs": [],
   "source": []
  }
 ],
 "metadata": {
  "interpreter": {
   "hash": "7986af9e856f45b0d08160d490b7d71a8573aab2acfdbb4c4775b5f9068a6850"
  },
  "kernelspec": {
   "display_name": "Python 3.9.0 64-bit",
   "language": "python",
   "name": "python3"
  },
  "language_info": {
   "codemirror_mode": {
    "name": "ipython",
    "version": 3
   },
   "file_extension": ".py",
   "mimetype": "text/x-python",
   "name": "python",
   "nbconvert_exporter": "python",
   "pygments_lexer": "ipython3",
   "version": "3.9.0"
  },
  "orig_nbformat": 4
 },
 "nbformat": 4,
 "nbformat_minor": 2
}
