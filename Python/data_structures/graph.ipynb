{
 "cells": [
  {
   "cell_type": "code",
   "execution_count": 1,
   "metadata": {},
   "outputs": [],
   "source": [
    "#  graph data structure is a list of nodes\n",
    "#  each node is a list of edges"
   ]
  },
  {
   "cell_type": "code",
   "execution_count": 11,
   "metadata": {},
   "outputs": [],
   "source": [
    "# let's collect a data to build a graph data structure\n",
    "# shortest path algoritm data as list of tupes with country name and target country name\n",
    "data = [\n",
    "        (\"Mumbai\", \"Paris\"),\n",
    "        (\"Mumbai\", \"Dubai\"),\n",
    "        (\"Paris\", \"Dubai\"),\n",
    "        (\"Paris\", \"New York\"),\n",
    "        (\"Dubai\", \"New York\"),\n",
    "        (\"New York\", \"Toronto\"),\n",
    "    ]\n"
   ]
  },
  {
   "cell_type": "code",
   "execution_count": 12,
   "metadata": {},
   "outputs": [
    {
     "data": {
      "image/png": "[encoded data removed]",
      "text/plain": [
       "<Figure size 432x288 with 1 Axes>"
      ]
     },
     "metadata": {},
     "output_type": "display_data"
    }
   ],
   "source": [
    "# lets draw the graph\n",
    "# we need to draw the graph with the help of networkx\n",
    "# networkx is a python library for graph\n",
    "# networkx is a graph data structure\n",
    "\n",
    "\n",
    "# !pip install networkx\n",
    "# !pip install matplotlib\n",
    "\n",
    "import networkx as nx\n",
    "import matplotlib.pyplot as plt\n",
    "G = nx.Graph()\n",
    "for start, end in data:\n",
    "    G.add_edge(start, end)\n",
    "\n",
    "nx.draw(G, with_labels=True)\n",
    "plt.show()"
   ]
  },
  {
   "cell_type": "code",
   "execution_count": 13,
   "metadata": {},
   "outputs": [],
   "source": [
    "# now we have a graph\n",
    "# lets find the shortest path between two countries\n",
    "# lets find the shortest path between Russia and Japan\n",
    "\n",
    "\n",
    "# before that, we should group your data, were the starting country is the key and the target country is the value\n",
    "\n",
    "# india is a node\n",
    "#  india has edges(target place) to Russia, China, India\n",
    "\n",
    "# lets make the data clean\n",
    "route_graph = {}\n",
    "for start, end in data:\n",
    "    if start  not in route_graph:\n",
    "        route_graph[start] = [end]\n",
    "    else:\n",
    "        route_graph[start].append(end)"
   ]
  },
  {
   "cell_type": "code",
   "execution_count": null,
   "metadata": {},
   "outputs": [],
   "source": []
  },
  {
   "cell_type": "code",
   "execution_count": null,
   "metadata": {},
   "outputs": [],
   "source": []
  },
  {
   "cell_type": "code",
   "execution_count": 14,
   "metadata": {},
   "outputs": [
    {
     "data": {
      "text/plain": [
       "{'Mumbai': ['Paris', 'Dubai'],\n",
       " 'Paris': ['Dubai', 'New York'],\n",
       " 'Dubai': ['New York'],\n",
       " 'New York': ['Toronto']}"
      ]
     },
     "execution_count": 14,
     "metadata": {},
     "output_type": "execute_result"
    }
   ],
   "source": [
    "# now we are ready to find the shortest path\n",
    "\n",
    "route_graph\n"
   ]
  },
  {
   "cell_type": "code",
   "execution_count": 29,
   "metadata": {},
   "outputs": [],
   "source": [
    "class Graph:\n",
    "    def __init__(self, graph):\n",
    "        self.graph = graph\n",
    "\n",
    "    def find_paths(self, start, end, path=[]):\n",
    "        print(\"got path as \", path)\n",
    "        path = path + [start]\n",
    "\n",
    "        if start == end:\n",
    "            print(f\"found {start} == {end} so, the path is =>\", path)\n",
    "            return [path]\n",
    "\n",
    "        if start not in self.graph:\n",
    "            print(f\"{start} not in graph\")\n",
    "            return []\n",
    "\n",
    "        paths = []\n",
    "        for node in self.graph[start]:\n",
    "            if node not in path:\n",
    "                new_paths = self.find_paths(node, end, path)\n",
    "                for p in new_paths:\n",
    "                    paths.append(p)\n",
    "\n",
    "        return paths\n",
    "        # if start not in self.graph.keys():\n",
    "        #     return None\n",
    "            \n",
    "        # for node in self.graph[start]:\n",
    "        #     if node == end:\n",
    "        #         return [start, end]\n",
    "        #     else:\n",
    "        #         path = self.find_path(node, end, path)\n",
    "        #         if path:\n",
    "        #             return [start] + path"
   ]
  },
  {
   "cell_type": "code",
   "execution_count": 30,
   "metadata": {},
   "outputs": [
    {
     "name": "stdout",
     "output_type": "stream",
     "text": [
      "got path as  []\n",
      "got path as  ['Mumbai']\n",
      "got path as  ['Mumbai', 'Paris']\n",
      "got path as  ['Mumbai', 'Paris', 'Dubai']\n",
      "found New York == New York so, the path is => ['Mumbai', 'Paris', 'Dubai', 'New York']\n",
      "got path as  ['Mumbai', 'Paris']\n",
      "found New York == New York so, the path is => ['Mumbai', 'Paris', 'New York']\n",
      "got path as  ['Mumbai']\n",
      "got path as  ['Mumbai', 'Dubai']\n",
      "found New York == New York so, the path is => ['Mumbai', 'Dubai', 'New York']\n",
      "[['Mumbai', 'Paris', 'Dubai', 'New York'], ['Mumbai', 'Paris', 'New York'], ['Mumbai', 'Dubai', 'New York']]\n"
     ]
    }
   ],
   "source": [
    "g = Graph(route_graph)\n",
    "print(g.find_paths('Mumbai', 'New York'))"
   ]
  },
  {
   "cell_type": "code",
   "execution_count": null,
   "metadata": {},
   "outputs": [],
   "source": []
  }
 ],
 "metadata": {
  "interpreter": {
   "hash": "7986af9e856f45b0d08160d490b7d71a8573aab2acfdbb4c4775b5f9068a6850"
  },
  "kernelspec": {
   "display_name": "Python 3.9.0 64-bit",
   "language": "python",
   "name": "python3"
  },
  "language_info": {
   "codemirror_mode": {
    "name": "ipython",
    "version": 3
   },
   "file_extension": ".py",
   "mimetype": "text/x-python",
   "name": "python",
   "nbconvert_exporter": "python",
   "pygments_lexer": "ipython3",
   "version": "3.9.0"
  },
  "orig_nbformat": 4
 },
 "nbformat": 4,
 "nbformat_minor": 2
}
