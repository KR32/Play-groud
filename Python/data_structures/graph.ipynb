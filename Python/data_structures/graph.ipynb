{
 "cells": [
  {
   "cell_type": "code",
   "execution_count": 1,
   "metadata": {},
   "outputs": [],
   "source": [
    "#  graph data structure is a list of nodes\n",
    "#  each node is a list of edges"
   ]
  },
  {
   "cell_type": "code",
   "execution_count": 1,
   "metadata": {},
   "outputs": [],
   "source": [
    "# let's collect a data to build a graph data structure\n",
    "# shortest path algoritm data as list of tupes with country name and target country name\n",
    "data = [\n",
    "        (\"Mumbai\", \"Paris\"),\n",
    "        (\"Mumbai\", \"Dubai\"),\n",
    "        (\"Paris\", \"Dubai\"),\n",
    "        (\"Paris\", \"New York\"),\n",
    "        (\"Dubai\", \"New York\"),\n",
    "        (\"New York\", \"Toronto\"),\n",
    "    ]\n"
   ]
  },
  {
   "cell_type": "code",
   "execution_count": 4,
   "metadata": {},
   "outputs": [
    {
     "ename": "KeyboardInterrupt",
     "evalue": "",
     "output_type": "error",
     "traceback": [
      "\u001b[1;31m---------------------------------------------------------------------------\u001b[0m",
      "\u001b[1;31mKeyboardInterrupt\u001b[0m                         Traceback (most recent call last)",
      "\u001b[1;32md:\\App_Folders\\vscode\\Python\\DS-Python\\DataStructures\\graph.ipynb Cell 3'\u001b[0m in \u001b[0;36m<module>\u001b[1;34m\u001b[0m\n\u001b[0;32m      <a href='vscode-notebook-cell:/d%3A/App_Folders/vscode/Python/DS-Python/DataStructures/graph.ipynb#ch0000002?line=0'>1</a>\u001b[0m \u001b[39m# lets draw the graph\u001b[39;00m\n\u001b[0;32m      <a href='vscode-notebook-cell:/d%3A/App_Folders/vscode/Python/DS-Python/DataStructures/graph.ipynb#ch0000002?line=1'>2</a>\u001b[0m \u001b[39m# we need to draw the graph with the help of networkx\u001b[39;00m\n\u001b[0;32m      <a href='vscode-notebook-cell:/d%3A/App_Folders/vscode/Python/DS-Python/DataStructures/graph.ipynb#ch0000002?line=2'>3</a>\u001b[0m \u001b[39m# networkx is a python library for graph\u001b[39;00m\n\u001b[1;32m   (...)\u001b[0m\n\u001b[0;32m      <a href='vscode-notebook-cell:/d%3A/App_Folders/vscode/Python/DS-Python/DataStructures/graph.ipynb#ch0000002?line=6'>7</a>\u001b[0m \u001b[39m# !pip install networkx\u001b[39;00m\n\u001b[0;32m      <a href='vscode-notebook-cell:/d%3A/App_Folders/vscode/Python/DS-Python/DataStructures/graph.ipynb#ch0000002?line=7'>8</a>\u001b[0m \u001b[39m# !pip install matplotlib\u001b[39;00m\n\u001b[0;32m     <a href='vscode-notebook-cell:/d%3A/App_Folders/vscode/Python/DS-Python/DataStructures/graph.ipynb#ch0000002?line=9'>10</a>\u001b[0m \u001b[39mimport\u001b[39;00m \u001b[39mnetworkx\u001b[39;00m \u001b[39mas\u001b[39;00m \u001b[39mnx\u001b[39;00m\n\u001b[1;32m---> <a href='vscode-notebook-cell:/d%3A/App_Folders/vscode/Python/DS-Python/DataStructures/graph.ipynb#ch0000002?line=10'>11</a>\u001b[0m \u001b[39mimport\u001b[39;00m \u001b[39mmatplotlib\u001b[39;00m\u001b[39m.\u001b[39;00m\u001b[39mpyplot\u001b[39;00m \u001b[39mas\u001b[39;00m \u001b[39mplt\u001b[39;00m\n\u001b[0;32m     <a href='vscode-notebook-cell:/d%3A/App_Folders/vscode/Python/DS-Python/DataStructures/graph.ipynb#ch0000002?line=11'>12</a>\u001b[0m G \u001b[39m=\u001b[39m nx\u001b[39m.\u001b[39mGraph()\n\u001b[0;32m     <a href='vscode-notebook-cell:/d%3A/App_Folders/vscode/Python/DS-Python/DataStructures/graph.ipynb#ch0000002?line=12'>13</a>\u001b[0m \u001b[39mfor\u001b[39;00m start, end \u001b[39min\u001b[39;00m data:\n",
      "File \u001b[1;32m~\\AppData\\Local\\Programs\\Python\\Python39\\lib\\site-packages\\matplotlib\\pyplot.py:57\u001b[0m, in \u001b[0;36m<module>\u001b[1;34m\u001b[0m\n\u001b[0;32m     <a href='file:///~/AppData/Local/Programs/Python/Python39/lib/site-packages/matplotlib/pyplot.py?line=54'>55</a>\u001b[0m \u001b[39mfrom\u001b[39;00m \u001b[39mmatplotlib\u001b[39;00m \u001b[39mimport\u001b[39;00m docstring\n\u001b[0;32m     <a href='file:///~/AppData/Local/Programs/Python/Python39/lib/site-packages/matplotlib/pyplot.py?line=55'>56</a>\u001b[0m \u001b[39mfrom\u001b[39;00m \u001b[39mmatplotlib\u001b[39;00m\u001b[39m.\u001b[39;00m\u001b[39mbackend_bases\u001b[39;00m \u001b[39mimport\u001b[39;00m FigureCanvasBase, MouseButton\n\u001b[1;32m---> <a href='file:///~/AppData/Local/Programs/Python/Python39/lib/site-packages/matplotlib/pyplot.py?line=56'>57</a>\u001b[0m \u001b[39mfrom\u001b[39;00m \u001b[39mmatplotlib\u001b[39;00m\u001b[39m.\u001b[39;00m\u001b[39mfigure\u001b[39;00m \u001b[39mimport\u001b[39;00m Figure, figaspect\n\u001b[0;32m     <a href='file:///~/AppData/Local/Programs/Python/Python39/lib/site-packages/matplotlib/pyplot.py?line=57'>58</a>\u001b[0m \u001b[39mfrom\u001b[39;00m \u001b[39mmatplotlib\u001b[39;00m\u001b[39m.\u001b[39;00m\u001b[39mgridspec\u001b[39;00m \u001b[39mimport\u001b[39;00m GridSpec, SubplotSpec\n\u001b[0;32m     <a href='file:///~/AppData/Local/Programs/Python/Python39/lib/site-packages/matplotlib/pyplot.py?line=58'>59</a>\u001b[0m \u001b[39mfrom\u001b[39;00m \u001b[39mmatplotlib\u001b[39;00m \u001b[39mimport\u001b[39;00m rcParams, rcParamsDefault, get_backend, rcParamsOrig\n",
      "File \u001b[1;32m~\\AppData\\Local\\Programs\\Python\\Python39\\lib\\site-packages\\matplotlib\\figure.py:25\u001b[0m, in \u001b[0;36m<module>\u001b[1;34m\u001b[0m\n\u001b[0;32m     <a href='file:///~/AppData/Local/Programs/Python/Python39/lib/site-packages/matplotlib/figure.py?line=21'>22</a>\u001b[0m \u001b[39mimport\u001b[39;00m \u001b[39mnumpy\u001b[39;00m \u001b[39mas\u001b[39;00m \u001b[39mnp\u001b[39;00m\n\u001b[0;32m     <a href='file:///~/AppData/Local/Programs/Python/Python39/lib/site-packages/matplotlib/figure.py?line=23'>24</a>\u001b[0m \u001b[39mimport\u001b[39;00m \u001b[39mmatplotlib\u001b[39;00m \u001b[39mas\u001b[39;00m \u001b[39mmpl\u001b[39;00m\n\u001b[1;32m---> <a href='file:///~/AppData/Local/Programs/Python/Python39/lib/site-packages/matplotlib/figure.py?line=24'>25</a>\u001b[0m \u001b[39mfrom\u001b[39;00m \u001b[39mmatplotlib\u001b[39;00m \u001b[39mimport\u001b[39;00m _blocking_input, docstring, projections\n\u001b[0;32m     <a href='file:///~/AppData/Local/Programs/Python/Python39/lib/site-packages/matplotlib/figure.py?line=25'>26</a>\u001b[0m \u001b[39mfrom\u001b[39;00m \u001b[39mmatplotlib\u001b[39;00m\u001b[39m.\u001b[39;00m\u001b[39martist\u001b[39;00m \u001b[39mimport\u001b[39;00m (\n\u001b[0;32m     <a href='file:///~/AppData/Local/Programs/Python/Python39/lib/site-packages/matplotlib/figure.py?line=26'>27</a>\u001b[0m     Artist, allow_rasterization, _finalize_rasterization)\n\u001b[0;32m     <a href='file:///~/AppData/Local/Programs/Python/Python39/lib/site-packages/matplotlib/figure.py?line=27'>28</a>\u001b[0m \u001b[39mfrom\u001b[39;00m \u001b[39mmatplotlib\u001b[39;00m\u001b[39m.\u001b[39;00m\u001b[39mbackend_bases\u001b[39;00m \u001b[39mimport\u001b[39;00m (\n\u001b[0;32m     <a href='file:///~/AppData/Local/Programs/Python/Python39/lib/site-packages/matplotlib/figure.py?line=28'>29</a>\u001b[0m     FigureCanvasBase, NonGuiException, MouseButton, _get_renderer)\n",
      "File \u001b[1;32m~\\AppData\\Local\\Programs\\Python\\Python39\\lib\\site-packages\\matplotlib\\projections\\__init__.py:58\u001b[0m, in \u001b[0;36m<module>\u001b[1;34m\u001b[0m\n\u001b[0;32m     <a href='file:///~/AppData/Local/Programs/Python/Python39/lib/site-packages/matplotlib/projections/__init__.py?line=55'>56</a>\u001b[0m \u001b[39mfrom\u001b[39;00m \u001b[39m.\u001b[39;00m\u001b[39mgeo\u001b[39;00m \u001b[39mimport\u001b[39;00m AitoffAxes, HammerAxes, LambertAxes, MollweideAxes\n\u001b[0;32m     <a href='file:///~/AppData/Local/Programs/Python/Python39/lib/site-packages/matplotlib/projections/__init__.py?line=56'>57</a>\u001b[0m \u001b[39mfrom\u001b[39;00m \u001b[39m.\u001b[39;00m\u001b[39mpolar\u001b[39;00m \u001b[39mimport\u001b[39;00m PolarAxes\n\u001b[1;32m---> <a href='file:///~/AppData/Local/Programs/Python/Python39/lib/site-packages/matplotlib/projections/__init__.py?line=57'>58</a>\u001b[0m \u001b[39mfrom\u001b[39;00m \u001b[39mmpl_toolkits\u001b[39;00m\u001b[39m.\u001b[39;00m\u001b[39mmplot3d\u001b[39;00m \u001b[39mimport\u001b[39;00m Axes3D\n\u001b[0;32m     <a href='file:///~/AppData/Local/Programs/Python/Python39/lib/site-packages/matplotlib/projections/__init__.py?line=60'>61</a>\u001b[0m \u001b[39mclass\u001b[39;00m \u001b[39mProjectionRegistry\u001b[39;00m:\n\u001b[0;32m     <a href='file:///~/AppData/Local/Programs/Python/Python39/lib/site-packages/matplotlib/projections/__init__.py?line=61'>62</a>\u001b[0m     \u001b[39m\"\"\"A mapping of registered projection names to projection classes.\"\"\"\u001b[39;00m\n",
      "File \u001b[1;32m~\\AppData\\Local\\Programs\\Python\\Python39\\lib\\site-packages\\mpl_toolkits\\mplot3d\\__init__.py:1\u001b[0m, in \u001b[0;36m<module>\u001b[1;34m\u001b[0m\n\u001b[1;32m----> <a href='file:///~/AppData/Local/Programs/Python/Python39/lib/site-packages/mpl_toolkits/mplot3d/__init__.py?line=0'>1</a>\u001b[0m \u001b[39mfrom\u001b[39;00m \u001b[39m.\u001b[39;00m\u001b[39maxes3d\u001b[39;00m \u001b[39mimport\u001b[39;00m Axes3D\n",
      "File \u001b[1;32m<frozen importlib._bootstrap>:1007\u001b[0m, in \u001b[0;36m_find_and_load\u001b[1;34m(name, import_)\u001b[0m\n",
      "File \u001b[1;32m<frozen importlib._bootstrap>:986\u001b[0m, in \u001b[0;36m_find_and_load_unlocked\u001b[1;34m(name, import_)\u001b[0m\n",
      "File \u001b[1;32m<frozen importlib._bootstrap>:680\u001b[0m, in \u001b[0;36m_load_unlocked\u001b[1;34m(spec)\u001b[0m\n",
      "File \u001b[1;32m<frozen importlib._bootstrap_external>:786\u001b[0m, in \u001b[0;36mexec_module\u001b[1;34m(self, module)\u001b[0m\n",
      "File \u001b[1;32m<frozen importlib._bootstrap_external>:923\u001b[0m, in \u001b[0;36mget_code\u001b[1;34m(self, fullname)\u001b[0m\n",
      "File \u001b[1;32m<frozen importlib._bootstrap_external>:853\u001b[0m, in \u001b[0;36msource_to_code\u001b[1;34m(self, data, path, _optimize)\u001b[0m\n",
      "\u001b[1;31mKeyboardInterrupt\u001b[0m: "
     ]
    },
    {
     "name": "stderr",
     "output_type": "stream",
     "text": [
      "WARNING: You are using pip version 20.3.1; however, version 22.0.3 is available.\n",
      "You should consider upgrading via the 'c:\\users\\kalingaraj\\appdata\\local\\programs\\python\\python39\\python.exe -m pip install --upgrade pip' command.\n"
     ]
    },
    {
     "name": "stdout",
     "output_type": "stream",
     "text": [
      "Collecting matplotlib\n",
      "  Using cached matplotlib-3.5.1-cp39-cp39-win_amd64.whl (7.2 MB)\n",
      "Requirement already satisfied: python-dateutil>=2.7 in c:\\users\\kalingaraj\\appdata\\roaming\\python\\python39\\site-packages (from matplotlib) (2.8.2)\n",
      "Collecting cycler>=0.10\n",
      "  Using cached cycler-0.11.0-py3-none-any.whl (6.4 kB)\n",
      "Collecting fonttools>=4.22.0\n",
      "  Using cached fonttools-4.29.1-py3-none-any.whl (895 kB)\n",
      "Collecting kiwisolver>=1.0.1\n",
      "  Using cached kiwisolver-1.3.2-cp39-cp39-win_amd64.whl (52 kB)\n",
      "Collecting numpy>=1.17\n",
      "  Using cached numpy-1.22.2-cp39-cp39-win_amd64.whl (14.7 MB)\n",
      "Collecting packaging>=20.0\n",
      "  Using cached packaging-21.3-py3-none-any.whl (40 kB)\n",
      "Collecting pillow>=6.2.0\n",
      "  Using cached Pillow-9.0.1-cp39-cp39-win_amd64.whl (3.2 MB)\n",
      "Collecting pyparsing>=2.2.1\n",
      "  Using cached pyparsing-3.0.7-py3-none-any.whl (98 kB)\n",
      "Requirement already satisfied: six>=1.5 in c:\\users\\kalingaraj\\appdata\\roaming\\python\\python39\\site-packages (from python-dateutil>=2.7->matplotlib) (1.16.0)\n",
      "Installing collected packages: pyparsing, pillow, packaging, numpy, kiwisolver, fonttools, cycler, matplotlib\n",
      "Successfully installed cycler-0.11.0 fonttools-4.29.1 kiwisolver-1.3.2 matplotlib-3.5.1 numpy-1.22.2 packaging-21.3 pillow-9.0.1 pyparsing-3.0.7\n"
     ]
    }
   ],
   "source": [
    "# lets draw the graph\n",
    "# we need to draw the graph with the help of networkx\n",
    "# networkx is a python library for graph\n",
    "# networkx is a graph data structure\n",
    "\n",
    "\n",
    "# !pip install networkx\n",
    "# !pip install matplotlib\n",
    "\n",
    "import networkx as nx\n",
    "import matplotlib.pyplot as plt\n",
    "G = nx.Graph()\n",
    "for start, end in data:\n",
    "    G.add_edge(start, end)\n",
    "\n",
    "nx.draw(G, with_labels=True)\n",
    "plt.show()"
   ]
  },
  {
   "cell_type": "code",
   "execution_count": 5,
   "metadata": {},
   "outputs": [],
   "source": [
    "# now we have a graph\n",
    "# lets find the shortest path between two countries\n",
    "# lets find the shortest path between Russia and Japan\n",
    "\n",
    "\n",
    "# before that, we should group your data, were the starting country is the key and the target country is the value\n",
    "\n",
    "# india is a node\n",
    "#  india has edges(target place) to Russia, China, India\n",
    "\n",
    "# lets make the data clean\n",
    "route_graph = {}\n",
    "for start, end in data:\n",
    "    if start  not in route_graph:\n",
    "        route_graph[start] = [end]\n",
    "    else:\n",
    "        route_graph[start].append(end)"
   ]
  },
  {
   "cell_type": "code",
   "execution_count": null,
   "metadata": {},
   "outputs": [],
   "source": []
  },
  {
   "cell_type": "code",
   "execution_count": null,
   "metadata": {},
   "outputs": [],
   "source": []
  },
  {
   "cell_type": "code",
   "execution_count": 6,
   "metadata": {},
   "outputs": [
    {
     "data": {
      "text/plain": [
       "{'Mumbai': ['Paris', 'Dubai'],\n",
       " 'Paris': ['Dubai', 'New York'],\n",
       " 'Dubai': ['New York'],\n",
       " 'New York': ['Toronto']}"
      ]
     },
     "execution_count": 6,
     "metadata": {},
     "output_type": "execute_result"
    }
   ],
   "source": [
    "# now we are ready to find the shortest path\n",
    "\n",
    "route_graph\n"
   ]
  },
  {
   "cell_type": "code",
   "execution_count": 7,
   "metadata": {},
   "outputs": [],
   "source": [
    "class Graph:\n",
    "    def __init__(self, graph):\n",
    "        self.graph = graph\n",
    "\n",
    "    def find_paths(self, start, end, path=[]):\n",
    "        print(\"got path as \", path)\n",
    "        path = path + [start]\n",
    "\n",
    "        if start == end:\n",
    "            print(f\"found {start} == {end} so, the path is =>\", path)\n",
    "            return [path]\n",
    "\n",
    "        if start not in self.graph:\n",
    "            print(f\"{start} not in graph\")\n",
    "            return []\n",
    "\n",
    "        paths = []\n",
    "        for node in self.graph[start]:\n",
    "            if node not in path:\n",
    "                new_paths = self.find_paths(node, end, path)\n",
    "                for p in new_paths:\n",
    "                    paths.append(p)\n",
    "\n",
    "        return paths\n",
    "        # if start not in self.graph.keys():\n",
    "        #     return None\n",
    "            \n",
    "        # for node in self.graph[start]:\n",
    "        #     if node == end:\n",
    "        #         return [start, end]\n",
    "        #     else:\n",
    "        #         path = self.find_path(node, end, path)\n",
    "        #         if path:\n",
    "        #             return [start] + path"
   ]
  },
  {
   "cell_type": "code",
   "execution_count": 8,
   "metadata": {},
   "outputs": [
    {
     "name": "stdout",
     "output_type": "stream",
     "text": [
      "got path as  []\n",
      "got path as  ['Mumbai']\n",
      "got path as  ['Mumbai', 'Paris']\n",
      "got path as  ['Mumbai', 'Paris', 'Dubai']\n",
      "found New York == New York so, the path is => ['Mumbai', 'Paris', 'Dubai', 'New York']\n",
      "got path as  ['Mumbai', 'Paris']\n",
      "found New York == New York so, the path is => ['Mumbai', 'Paris', 'New York']\n",
      "got path as  ['Mumbai']\n",
      "got path as  ['Mumbai', 'Dubai']\n",
      "found New York == New York so, the path is => ['Mumbai', 'Dubai', 'New York']\n",
      "[['Mumbai', 'Paris', 'Dubai', 'New York'], ['Mumbai', 'Paris', 'New York'], ['Mumbai', 'Dubai', 'New York']]\n"
     ]
    }
   ],
   "source": [
    "g = Graph(route_graph)\n",
    "print(g.find_paths('Mumbai', 'New York'))"
   ]
  },
  {
   "cell_type": "code",
   "execution_count": null,
   "metadata": {},
   "outputs": [],
   "source": []
  }
 ],
 "metadata": {
  "interpreter": {
   "hash": "7986af9e856f45b0d08160d490b7d71a8573aab2acfdbb4c4775b5f9068a6850"
  },
  "kernelspec": {
   "display_name": "Python 3.9.0 64-bit",
   "language": "python",
   "name": "python3"
  },
  "language_info": {
   "codemirror_mode": {
    "name": "ipython",
    "version": 3
   },
   "file_extension": ".py",
   "mimetype": "text/x-python",
   "name": "python",
   "nbconvert_exporter": "python",
   "pygments_lexer": "ipython3",
   "version": "3.9.0"
  },
  "orig_nbformat": 4
 },
 "nbformat": 4,
 "nbformat_minor": 2
}
