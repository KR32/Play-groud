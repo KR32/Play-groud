{
 "cells": [
  {
   "cell_type": "code",
   "execution_count": 86,
   "metadata": {},
   "outputs": [],
   "source": [
    "class TreeNode:\n",
    "    def __init__(self, data):\n",
    "        self.parent = None\n",
    "        self.data = data\n",
    "        self.children = []\n",
    "\n",
    "    def add_child(self, parent, data):\n",
    "        child = TreeNode(data)\n",
    "        child.parent = parent\n",
    "        parent.children.append(child)\n",
    "\n",
    "    def get_child(self, data, parent=None):\n",
    "        if not parent:\n",
    "            parent = self\n",
    "        for child in parent.children:\n",
    "            if child.data == data: return child\n",
    "\n",
    "    def get_level(self):\n",
    "        level = 0\n",
    "        parent = self.parent\n",
    "        while parent:\n",
    "            level += 1\n",
    "            parent = parent.parent\n",
    "            \n",
    "        return level\n",
    "\n",
    "    def print_tree(self, indent=2):\n",
    "        spaces = \" \" * self.get_level() * indent\n",
    "        prefix = spaces + \"|__\" if self.parent else spaces\n",
    "        print(prefix + self.data)\n",
    "        if self.children:\n",
    "            for child in self.children:\n",
    "                child.print_tree()\n",
    "        \n"
   ]
  },
  {
   "cell_type": "code",
   "execution_count": 95,
   "metadata": {},
   "outputs": [
    {
     "name": "stdout",
     "output_type": "stream",
     "text": [
      "programming\n",
      "  |__web\n",
      "    |__HTML\n",
      "    |__CSS\n",
      "    |__JavaScript\n",
      "    |__Python\n",
      "  |__desktop\n",
      "  |__mobile\n",
      "  |__embedded system\n"
     ]
    }
   ],
   "source": [
    "\n",
    "\n",
    "# level 0\n",
    "root = TreeNode('programming')\n",
    "child1 = TreeNode('web')\n",
    "child2 = TreeNode('desktop')\n",
    "child3 = TreeNode('mobile')\n",
    "child4 = TreeNode('embedded')\n",
    "\n",
    "# level 1\n",
    "root.add_child(root, 'web')\n",
    "root.add_child(root, 'desktop')\n",
    "root.add_child(root, 'mobile')\n",
    "root.add_child(root, 'embedded system')\n",
    "\n",
    "# level 2\n",
    "# web\n",
    "web = root.get_child('web')\n",
    "root.add_child(web, 'HTML')\n",
    "root.add_child(web, 'CSS')\n",
    "root.add_child(web, 'JavaScript')\n",
    "root.add_child(web, 'Python')\n",
    "\n",
    "# css = web.get_child('CSS')\n",
    "desktop = root.get_child('desktop')\n",
    "# css.get_level()\n",
    "root.print_tree(indent=2)"
   ]
  },
  {
   "cell_type": "code",
   "execution_count": null,
   "metadata": {},
   "outputs": [],
   "source": []
  }
 ],
 "metadata": {
  "interpreter": {
   "hash": "b80d01eb8517b671cd5fe34814a004625ce52da06e7d91a7c11e9cc77893fb84"
  },
  "kernelspec": {
   "display_name": "Python 3.9.0 ('.env': venv)",
   "language": "python",
   "name": "python3"
  },
  "language_info": {
   "codemirror_mode": {
    "name": "ipython",
    "version": 3
   },
   "file_extension": ".py",
   "mimetype": "text/x-python",
   "name": "python",
   "nbconvert_exporter": "python",
   "pygments_lexer": "ipython3",
   "version": "3.9.0"
  },
  "orig_nbformat": 4
 },
 "nbformat": 4,
 "nbformat_minor": 2
}
