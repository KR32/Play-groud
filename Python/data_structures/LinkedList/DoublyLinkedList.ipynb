{
 "cells": [
  {
   "cell_type": "code",
   "execution_count": null,
   "metadata": {},
   "outputs": [],
   "source": [
    "# Doubly Linked List [simply linked list +]\n",
    "# it is a doubly linked list because it has a pointer to the previous node\n"
   ]
  },
  {
   "cell_type": "code",
   "execution_count": 105,
   "metadata": {},
   "outputs": [],
   "source": [
    "class Node:\n",
    "    def __init__(self, prev, data, next):\n",
    "        self.prev = prev\n",
    "        self.data = data\n",
    "        self.next = next\n",
    "\n",
    "class LinkedList:\n",
    "    def __init__(self, head, tail):\n",
    "        self.head = head\n",
    "        self.tail = tail\n",
    "\n",
    "    def len(self):\n",
    "        itr = self.head\n",
    "        count = 0\n",
    "        while itr:\n",
    "            itr = itr.next\n",
    "            count +=1\n",
    "        return count\n",
    "\n",
    "    def print(self, reversed=False):\n",
    "        _str=\"\"\n",
    "        if not reversed:\n",
    "            itr = self.head \n",
    "            while itr:\n",
    "                print(f\"{itr.data} ---> \", end=\"\")\n",
    "                itr = itr.next\n",
    "            print()\n",
    "        else:\n",
    "            itr = self.tail\n",
    "            while itr:\n",
    "                print(f\" <--- {itr.data} \", end=\"\")\n",
    "                itr = itr.prev\n",
    "            print()\n",
    "            \n",
    "    def get_tail(self):\n",
    "        itr = self.head\n",
    "        while itr.next:\n",
    "            itr = itr.next\n",
    "        return itr\n",
    "\n",
    "    def insert_at(self, data, index):\n",
    "        itr = self.head\n",
    "        idx = 0\n",
    "        while itr:\n",
    "            if idx == index - 1:\n",
    "                # (p,d,n) , (p,d,n), (p,d,n)\n",
    "                new_node = Node(itr, data, itr.next)\n",
    "                itr.next.prev = new_node\n",
    "                itr.next = new_node\n",
    "                break\n",
    "            itr = itr.next\n",
    "            idx += 1\n",
    "        self.print()\n",
    "\n",
    "    def update_at(self, data, index):\n",
    "        itr = self.head\n",
    "        idx = 0\n",
    "        while itr:\n",
    "            if idx == index:\n",
    "                itr.data = data\n",
    "                break\n",
    "            itr = itr.next\n",
    "            idx += 1\n",
    "        self.print()\n",
    "\n",
    "    def delete_at(self, index):\n",
    "        itr = self.head\n",
    "        count = 0\n",
    "        while itr:\n",
    "            if count == index - 1:\n",
    "                itr.next = itr.next.next\n",
    "                itr.next.prev = itr\n",
    "                break\n",
    "            itr = itr.next\n",
    "            count +=1\n",
    "        self.print()\n"
   ]
  },
  {
   "cell_type": "code",
   "execution_count": 106,
   "metadata": {},
   "outputs": [],
   "source": [
    "headnode = Node(None,'head', None)\n",
    "node1= Node(None,'node1', None)\n",
    "node2= Node(None,'node2', None)\n",
    "node3= Node(None,'node3', None)\n",
    "node4= Node(None,'node4', None)\n",
    "tail = Node(None, 'tail', None)\n",
    "\n",
    "dll = LinkedList(headnode, tail)\n",
    "\n",
    "# prev\n",
    "dll.head.prev = None\n",
    "node1.prev = dll.head\n",
    "node2.prev = node1\n",
    "node3.prev = node2\n",
    "node4.prev = node3\n",
    "tail.prev = node4\n",
    "\n",
    "# next\n",
    "dll.head.next = node1\n",
    "node1.next = node2\n",
    "node2.next = node3\n",
    "node3.next = node4\n",
    "node4.next = tail\n",
    "tail.next = None"
   ]
  },
  {
   "cell_type": "code",
   "execution_count": 107,
   "metadata": {},
   "outputs": [
    {
     "name": "stdout",
     "output_type": "stream",
     "text": [
      "head ---> node1 ---> node2 ---> node3 ---> node4 ---> tail ---> \n",
      " <--- tail  <--- node4  <--- node3  <--- node2  <--- node1  <--- head \n"
     ]
    }
   ],
   "source": [
    "dll.print(reversed=False)\n",
    "dll.print(reversed=True)"
   ]
  },
  {
   "cell_type": "code",
   "execution_count": 108,
   "metadata": {},
   "outputs": [
    {
     "data": {
      "text/plain": [
       "6"
      ]
     },
     "execution_count": 108,
     "metadata": {},
     "output_type": "execute_result"
    }
   ],
   "source": [
    "dll.len()"
   ]
  },
  {
   "cell_type": "code",
   "execution_count": 109,
   "metadata": {},
   "outputs": [
    {
     "name": "stdout",
     "output_type": "stream",
     "text": [
      "(('prev', 'node4'), ('data', 'tail'), ('next', None))\n"
     ]
    }
   ],
   "source": [
    "tailnode = dll.get_tail()\n",
    "print(((\"prev\",tailnode.prev.data),(\"data\",tailnode.data),(\"next\",tailnode.next)))"
   ]
  },
  {
   "cell_type": "code",
   "execution_count": 110,
   "metadata": {},
   "outputs": [
    {
     "name": "stdout",
     "output_type": "stream",
     "text": [
      "head ---> node1 ---> node2 ---> node3 ---> tail ---> \n"
     ]
    }
   ],
   "source": [
    "dll.delete_at(4)"
   ]
  },
  {
   "cell_type": "code",
   "execution_count": 111,
   "metadata": {},
   "outputs": [
    {
     "name": "stdout",
     "output_type": "stream",
     "text": [
      "head ---> node1 ---> node2 ---> node3 ---> tail ---> \n",
      " <--- tail  <--- node3  <--- node2  <--- node1  <--- head \n"
     ]
    }
   ],
   "source": [
    "dll.print(reversed=False)\n",
    "dll.print(reversed=True)"
   ]
  },
  {
   "cell_type": "code",
   "execution_count": 112,
   "metadata": {},
   "outputs": [
    {
     "name": "stdout",
     "output_type": "stream",
     "text": [
      "head ---> node1 ---> node2 ---> node3 ---> node4 ---> tail ---> \n"
     ]
    }
   ],
   "source": [
    "dll.insert_at('node4', 4)"
   ]
  },
  {
   "cell_type": "code",
   "execution_count": 113,
   "metadata": {},
   "outputs": [
    {
     "name": "stdout",
     "output_type": "stream",
     "text": [
      "head ---> node1 ---> node2 ---> node3 ---> node4 ---> tail ---> \n",
      " <--- tail  <--- node4  <--- node3  <--- node2  <--- node1  <--- head \n"
     ]
    }
   ],
   "source": [
    "dll.print(reversed=False)\n",
    "dll.print(reversed=True)"
   ]
  },
  {
   "cell_type": "code",
   "execution_count": 114,
   "metadata": {},
   "outputs": [
    {
     "name": "stdout",
     "output_type": "stream",
     "text": [
      "head ---> node1 ---> node2 ---> node3 ---> node4 ---> tailnode ---> \n"
     ]
    }
   ],
   "source": [
    "dll.update_at('tailnode',5)"
   ]
  },
  {
   "cell_type": "code",
   "execution_count": null,
   "metadata": {},
   "outputs": [],
   "source": []
  }
 ],
 "metadata": {
  "interpreter": {
   "hash": "004813f83a07e00d3b802e48803fceb7e2d883d2d6a3044a3d6870bbad47b125"
  },
  "kernelspec": {
   "display_name": "Python 3.9.0 ('.env': venv)",
   "language": "python",
   "name": "python3"
  },
  "language_info": {
   "codemirror_mode": {
    "name": "ipython",
    "version": 3
   },
   "file_extension": ".py",
   "mimetype": "text/x-python",
   "name": "python",
   "nbconvert_exporter": "python",
   "pygments_lexer": "ipython3",
   "version": "3.9.0"
  },
  "orig_nbformat": 4
 },
 "nbformat": 4,
 "nbformat_minor": 2
}
