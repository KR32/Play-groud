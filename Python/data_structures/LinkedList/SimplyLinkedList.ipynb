{
 "cells": [
  {
   "cell_type": "code",
   "execution_count": null,
   "metadata": {},
   "outputs": [],
   "source": [
    "# Linked List\n",
    "#  - A linked list is a linear data structure that consists of a sequence of nodes\n",
    "#  - Each node contains a data field and a reference to the next node in the sequence\n",
    "#  - The last node in the sequence points to None\n",
    "#  - The first node in the sequence is called the head of the list\n",
    "#  - The last node in the sequence is called the tail of the list\n",
    "#  - The head and tail nodes are not part of the list\n"
   ]
  },
  {
   "cell_type": "code",
   "execution_count": 304,
   "metadata": {},
   "outputs": [],
   "source": [
    "class Node:\n",
    "    def __init__(self, data, next):\n",
    "        self.data = data\n",
    "        self.next = next\n",
    "\n",
    "class LinkedList():\n",
    "\n",
    "    def __init__(self, head):\n",
    "        self.head = head\n",
    "\n",
    "    def print(self):\n",
    "        itr = self.head\n",
    "        while itr:\n",
    "            print(\"[\"+itr.data+\"] ====> \", end=\"\")\n",
    "            itr = itr.next\n",
    "\n",
    "    def len(self) -> int:\n",
    "        count = 0\n",
    "        itr = self.head\n",
    "        while itr:\n",
    "            count +=1\n",
    "            itr = itr.next\n",
    "        return count\n",
    "\n",
    "    def append(self, data):\n",
    "        itr = self.head\n",
    "        if itr == None:\n",
    "            self.head.data = data\n",
    "            return self.head\n",
    "        else:\n",
    "            while itr.next:\n",
    "                itr = itr.next\n",
    "            itr.next = Node(data, None)\n",
    "            return self.print()\n",
    "\n",
    "    def prepend(self, data):\n",
    "        itr = self.head\n",
    "        if itr == None:\n",
    "            self.head.data = data\n",
    "            return self.head\n",
    "        else:\n",
    "            self.head = Node(data, self.head)\n",
    "            return self.print()\n",
    "\n",
    "    def pop_tail_node(self):\n",
    "        itr = self.head\n",
    "        idx = 0\n",
    "        if self.head == None or self.head.next == None:\n",
    "            self.head = None\n",
    "            return self.head\n",
    "            \n",
    "        while itr:\n",
    "            if idx == self.len() - 2:\n",
    "                itr.next = None\n",
    "            itr = itr.next\n",
    "            idx +=1\n",
    "        return self.print()\n",
    "\n",
    "    def pop_head_node(self):\n",
    "        self.head = self.head.next\n",
    "        return self.print()\n",
    "\n",
    "    def insert_at(self, data, index):\n",
    "        if 0 > index and index > self.len():\n",
    "            raise IndexError(\"LinkedList index out of range\")\n",
    "        elif index == 0:\n",
    "            return self.append(data)\n",
    "        else:\n",
    "            idx = 0\n",
    "            itr = self.head\n",
    "            while itr:\n",
    "                if idx == index - 1:\n",
    "                    new_node = Node(data, itr.next)\n",
    "                    itr.next = new_node\n",
    "                    break\n",
    "                itr = itr.next\n",
    "                idx += 1\n",
    "            return self.print()\n",
    "\n",
    "    def update_at(self, data, index):\n",
    "        if 0 > index and index > self.len():\n",
    "            raise IndexError(\"LinkedList index out of range\")\n",
    "        elif index == 0:\n",
    "            self.head = None\n",
    "            return self.head\n",
    "        else:\n",
    "            itr = self.head\n",
    "            idx = 0\n",
    "            while itr:\n",
    "                if idx == index:\n",
    "                    itr.data = data\n",
    "                    break\n",
    "                itr = itr.next\n",
    "                idx +=1\n",
    "            return self.print()\n",
    "\n",
    "    def delete_at(self, index):\n",
    "        if 0 > index and index > self.len():\n",
    "            raise IndexError(\"LinkedList index out of range\")\n",
    "        elif index == 0:\n",
    "            self.head = None\n",
    "            return self.head\n",
    "        else:\n",
    "            itr = self.head\n",
    "            idx = 0\n",
    "            while itr:\n",
    "                if idx == index - 1:\n",
    "                    itr.next = itr.next.next\n",
    "                    break\n",
    "                itr = itr.next\n",
    "                idx +=1\n",
    "            return self.print()\n",
    "\n"
   ]
  },
  {
   "cell_type": "code",
   "execution_count": 315,
   "metadata": {},
   "outputs": [],
   "source": [
    "node = Node('head', None)\n",
    "\n",
    "sll = LinkedList(node)\n",
    "\n",
    "tailnode = Node('tail', None)\n",
    "node4 = Node('node4', tailnode)\n",
    "node3 = Node('node3', node4)\n",
    "node2 = Node('node2', node3)\n",
    "node1 = Node('node1', node2)\n",
    "sll.head.next = node1"
   ]
  },
  {
   "cell_type": "code",
   "execution_count": 316,
   "metadata": {},
   "outputs": [
    {
     "name": "stdout",
     "output_type": "stream",
     "text": [
      "[head] ====> [node1] ====> [node2] ====> [node3] ====> [node4] ====> [tail] ====> "
     ]
    }
   ],
   "source": [
    "sll.print()"
   ]
  },
  {
   "cell_type": "code",
   "execution_count": 317,
   "metadata": {},
   "outputs": [
    {
     "data": {
      "text/plain": [
       "6"
      ]
     },
     "execution_count": 317,
     "metadata": {},
     "output_type": "execute_result"
    }
   ],
   "source": [
    "sll.len()"
   ]
  },
  {
   "cell_type": "code",
   "execution_count": 318,
   "metadata": {},
   "outputs": [
    {
     "name": "stdout",
     "output_type": "stream",
     "text": [
      "[head] ====> [node1] ====> [node2] ====> [node3] ====> [node4] ====> [tail] ====> [appended-node] ====> "
     ]
    }
   ],
   "source": [
    "sll.append('appended-node')"
   ]
  },
  {
   "cell_type": "code",
   "execution_count": 319,
   "metadata": {},
   "outputs": [
    {
     "name": "stdout",
     "output_type": "stream",
     "text": [
      "[prepended-node] ====> [head] ====> [node1] ====> [node2] ====> [node3] ====> [node4] ====> [tail] ====> [appended-node] ====> "
     ]
    }
   ],
   "source": [
    "sll.prepend(\"prepended-node\")"
   ]
  },
  {
   "cell_type": "code",
   "execution_count": 320,
   "metadata": {},
   "outputs": [
    {
     "name": "stdout",
     "output_type": "stream",
     "text": [
      "[prepended-node] ====> [head] ====> [node1] ====> [node2] ====> [node3] ====> [node4] ====> [tail] ====> "
     ]
    }
   ],
   "source": [
    "sll.pop_tail_node()"
   ]
  },
  {
   "cell_type": "code",
   "execution_count": 321,
   "metadata": {},
   "outputs": [
    {
     "name": "stdout",
     "output_type": "stream",
     "text": [
      "[head] ====> [node1] ====> [node2] ====> [node3] ====> [node4] ====> [tail] ====> "
     ]
    }
   ],
   "source": [
    "sll.pop_head_node()"
   ]
  },
  {
   "cell_type": "code",
   "execution_count": 322,
   "metadata": {},
   "outputs": [
    {
     "name": "stdout",
     "output_type": "stream",
     "text": [
      "[head] ====> [node1] ====> [i'm here] ====> [node2] ====> [node3] ====> [node4] ====> [tail] ====> "
     ]
    }
   ],
   "source": [
    "sll.insert_at(\"i'm here\", 2)"
   ]
  },
  {
   "cell_type": "code",
   "execution_count": 323,
   "metadata": {},
   "outputs": [
    {
     "name": "stdout",
     "output_type": "stream",
     "text": [
      "[head] ====> [node1] ====> [new_node] ====> [node2] ====> [node3] ====> [node4] ====> [tail] ====> "
     ]
    }
   ],
   "source": [
    "sll.update_at(\"new_node\", 2)"
   ]
  },
  {
   "cell_type": "code",
   "execution_count": 324,
   "metadata": {},
   "outputs": [
    {
     "name": "stdout",
     "output_type": "stream",
     "text": [
      "[head] ====> [node1] ====> [node2] ====> [node3] ====> [node4] ====> [tail] ====> "
     ]
    }
   ],
   "source": [
    "sll.delete_at(2)"
   ]
  },
  {
   "cell_type": "code",
   "execution_count": null,
   "metadata": {},
   "outputs": [],
   "source": []
  }
 ],
 "metadata": {
  "interpreter": {
   "hash": "004813f83a07e00d3b802e48803fceb7e2d883d2d6a3044a3d6870bbad47b125"
  },
  "kernelspec": {
   "display_name": "Python 3.9.0 ('.env': venv)",
   "language": "python",
   "name": "python3"
  },
  "language_info": {
   "codemirror_mode": {
    "name": "ipython",
    "version": 3
   },
   "file_extension": ".py",
   "mimetype": "text/x-python",
   "name": "python",
   "nbconvert_exporter": "python",
   "pygments_lexer": "ipython3",
   "version": "3.9.0"
  },
  "orig_nbformat": 4
 },
 "nbformat": 4,
 "nbformat_minor": 2
}
