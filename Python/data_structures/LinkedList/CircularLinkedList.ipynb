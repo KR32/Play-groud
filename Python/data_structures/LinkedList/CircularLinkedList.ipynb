{
 "cells": [
  {
   "cell_type": "code",
   "execution_count": null,
   "metadata": {},
   "outputs": [],
   "source": [
    "class Node:\n",
    "    def __init__(self, prev, data, next):\n",
    "        self.prev = prev\n",
    "        self.data = data\n",
    "        self.next = next\n",
    "\n",
    "class LinkedList:\n",
    "    def __init__(self, head):\n",
    "        self.head = head"
   ]
  },
  {
   "cell_type": "code",
   "execution_count": null,
   "metadata": {},
   "outputs": [],
   "source": [
    "headnode = Node(None,'head', None)\n",
    "node1= Node(None,'node1', None)\n",
    "node2= Node(None,'node2', None)\n",
    "node3= Node(None,'node3', None)\n",
    "node4= Node(None,'node4', None)\n",
    "tail = Node(None, 'tail', None)\n",
    "\n",
    "cll = LinkedList(headnode)\n",
    "# prev\n",
    "cll.head.prev = None\n",
    "node1.prev = cll.head\n",
    "node2.prev = node1\n",
    "node3.prev = node2\n",
    "node4.prev = node3\n",
    "tail.prev = node4\n",
    "\n",
    "# next\n",
    "cll.head.next = node1\n",
    "node1.next = node2\n",
    "node2.next = node3\n",
    "node3.next = node4\n",
    "node4.next = tail\n",
    "tail.next = None\n",
    "\n",
    "\n",
    "# make circle by link tail with head\n",
    "tail.next = cll.head\n",
    "cll.head.prev = tail"
   ]
  }
 ],
 "metadata": {
  "language_info": {
   "name": "python"
  },
  "orig_nbformat": 4
 },
 "nbformat": 4,
 "nbformat_minor": 2
}
