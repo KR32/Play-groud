{
  "nbformat": 4,
  "nbformat_minor": 0,
  "metadata": {
    "colab": {
      "name": "Python3-v1.ipynb",
      "provenance": [],
      "collapsed_sections": [],
      "authorship_tag": "ABX9TyN3L2Wy2UlmVJ0Fr54BJUFi"
    },
    "kernelspec": {
      "name": "python3",
      "display_name": "Python 3"
    }
  },
  "cells": [
    {
      "cell_type": "code",
      "metadata": {
        "id": "2rIf_2sEX_5x"
      },
      "source": [
        "# 1\r\n",
        "# be careful with indentation\r\n",
        "if 1>10:\r\n",
        "  print('[str]')\r\n",
        "print('--str--')"
      ],
      "execution_count": null,
      "outputs": []
    },
    {
      "cell_type": "code",
      "metadata": {
        "id": "FKE4VKe7YMdy"
      },
      "source": [
        "# 2\r\n",
        "#  Using if else and elif\r\n",
        "i = input('Enter the numer:')\r\n",
        "i = int(i) \r\n",
        "if i>0:\r\n",
        "  print('positive(+) integer.')\r\n",
        "elif i<0:\r\n",
        "  print('negative(-) integer.')\r\n",
        "else:\r\n",
        "  print('neutral(0).')"
      ],
      "execution_count": null,
      "outputs": []
    },
    {
      "cell_type": "code",
      "metadata": {
        "id": "TyYEvgWYYOcR"
      },
      "source": [
        "# 3\r\n",
        "#  Using 'in'\r\n",
        "\r\n",
        "# with str\r\n",
        "print('str' in 'string') # returns boolean result\r\n",
        "print('str' in 'String') # case sencitive\r\n",
        "print('Str' in 'string')"
      ],
      "execution_count": null,
      "outputs": []
    },
    {
      "cell_type": "code",
      "metadata": {
        "id": "6JN2k3HyYPLZ"
      },
      "source": [
        "# 4\r\n",
        "# with list\r\n",
        "\r\n",
        "my_list=['a','b','c','d','e']\r\n",
        "print('a' in my_list)"
      ],
      "execution_count": null,
      "outputs": []
    },
    {
      "cell_type": "code",
      "metadata": {
        "id": "lqbZrvC9YRXj"
      },
      "source": [
        "# 5\r\n",
        "# with set\r\n",
        "\r\n",
        "my_set={1,2,3,4,5}\r\n",
        "print(3 in my_set)"
      ],
      "execution_count": null,
      "outputs": []
    },
    {
      "cell_type": "code",
      "metadata": {
        "id": "tTBC5T3nYTQ1"
      },
      "source": [
        "# 6\r\n",
        "# with tuple\r\n",
        "\r\n",
        "my_tuple=(0,1,2,3,4)\r\n",
        "print(0 in my_tuple)"
      ],
      "execution_count": null,
      "outputs": []
    },
    {
      "cell_type": "code",
      "metadata": {
        "id": "UYpJmOcaYWWm"
      },
      "source": [
        "# 7\r\n",
        "# with dict\r\n",
        "\r\n",
        "my_dict={\r\n",
        "         'a':1,\r\n",
        "         'b':2,\r\n",
        "         'c':3,\r\n",
        "         'd':4,\r\n",
        "         'e':5\r\n",
        "         }\r\n",
        "print('c' in my_dict.keys())\r\n",
        "print(3 in my_dict.values())"
      ],
      "execution_count": null,
      "outputs": []
    },
    {
      "cell_type": "code",
      "metadata": {
        "id": "zUB8Pp08YXFb"
      },
      "source": [
        "# 8\r\n",
        "#  using while loop in its simplest form\r\n",
        "x=0\r\n",
        "while x<5:\r\n",
        "  print(x)\r\n",
        "  # x=+1 is wrong\r\n",
        "  x +=1"
      ],
      "execution_count": null,
      "outputs": []
    },
    {
      "cell_type": "code",
      "metadata": {
        "id": "bA7J0SL4YYw3"
      },
      "source": [
        "# 9\r\n",
        "# 'else clause with while\r\n",
        "x=0\r\n",
        "while x>5: # if the condition is never met\r\n",
        "  print(x)\r\n",
        "  x +=1\r\n",
        "else:\r\n",
        "  print('Oops!')"
      ],
      "execution_count": null,
      "outputs": []
    },
    {
      "cell_type": "code",
      "metadata": {
        "id": "hj6xBHoqYanc"
      },
      "source": [
        "# 10\r\n",
        "#  Using 'break'\r\n",
        "x = 0\r\n",
        "while x < 100:\r\n",
        "  print(x)\r\n",
        "  x+=1\r\n",
        "  if x==5:\r\n",
        "    print('No 5 founded')\r\n",
        "    break\r\n",
        "print('looping done')\r\n",
        "\r\n",
        "print('appart from the loop')"
      ],
      "execution_count": null,
      "outputs": []
    },
    {
      "cell_type": "code",
      "metadata": {
        "id": "wJfLuyCPYcTI"
      },
      "source": [
        "# 11\r\n",
        "# Using 'continue' to skip the rest of loop body\r\n",
        "x = 0\r\n",
        "while x < 5:\r\n",
        "  x+=1\r\n",
        "  if x == 3:\r\n",
        "    continue\r\n",
        "  print(x)\r\n",
        "  "
      ],
      "execution_count": null,
      "outputs": []
    },
    {
      "cell_type": "code",
      "metadata": {
        "id": "Y_DQXQXsYeed"
      },
      "source": [
        "# 12\r\n",
        "# Using 'pass' to do nothing\r\n",
        "x = 0\r\n",
        "while x<5:\r\n",
        "  x+=1\r\n",
        "  if x == 3:\r\n",
        "    pass\r\n",
        "    # you need a block here\r\n",
        "    # so if you have nothing to do,\r\n",
        "    # just type 'pass' \r\n",
        "  print(x)\r\n"
      ],
      "execution_count": null,
      "outputs": []
    },
    {
      "cell_type": "code",
      "metadata": {
        "colab": {
          "base_uri": "https://localhost:8080/"
        },
        "id": "KnXKjhUpYhnX",
        "outputId": "16389214-a512-4707-e0fe-5b1171378245"
      },
      "source": [
        "# 13\r\n",
        "# Using range\r\n",
        "my_range= range(1,5)\r\n",
        "print(str(my_range))\r\n",
        "print(type(my_range))\r\n",
        "for i in my_range:\r\n",
        "  print(i)"
      ],
      "execution_count": null,
      "outputs": [
        {
          "output_type": "stream",
          "text": [
            "range(1, 5)\n",
            "<class 'range'>\n",
            "1\n",
            "2\n",
            "3\n",
            "4\n"
          ],
          "name": "stdout"
        }
      ]
    },
    {
      "cell_type": "code",
      "metadata": {
        "colab": {
          "base_uri": "https://localhost:8080/"
        },
        "id": "OFp5fzc5Yp8Y",
        "outputId": "37dfa72c-bdcd-4970-8906-76b0a8f19a03"
      },
      "source": [
        "# 14\r\n",
        "# Find the sum of all numbers below 1000, which are multiple by 3 or by 5.\r\n",
        "sum = 0\r\n",
        "for n in range(1,1000):\r\n",
        "    if not(n%3) or not(n%5):\r\n",
        "      sum+=n\r\n",
        "print('sum = ',sum)\r\n"
      ],
      "execution_count": null,
      "outputs": [
        {
          "output_type": "stream",
          "text": [
            "sum =  233168\n"
          ],
          "name": "stdout"
        }
      ]
    },
    {
      "cell_type": "code",
      "metadata": {
        "colab": {
          "base_uri": "https://localhost:8080/"
        },
        "id": "awfFylTYZWR8",
        "outputId": "bccb72d5-bd41-4848-e73f-3324b2ed4c38"
      },
      "source": [
        "# 15\r\n",
        "# Counting backwards\r\n",
        "for x in range(10, 5, -1):  #(last,starts with,reduce)\r\n",
        "  print(x)\r\n"
      ],
      "execution_count": null,
      "outputs": [
        {
          "output_type": "stream",
          "text": [
            "10\n",
            "9\n",
            "8\n",
            "7\n",
            "6\n"
          ],
          "name": "stdout"
        }
      ]
    },
    {
      "cell_type": "code",
      "metadata": {
        "colab": {
          "base_uri": "https://localhost:8080/"
        },
        "id": "k-v1ssmQZ21Q",
        "outputId": "685b4bd9-6886-48fe-a4ea-64539d8c1708"
      },
      "source": [
        "# 16\r\n",
        "name = 'Coder'\r\n",
        "name2 = 'John'\r\n",
        "# Using string formatting\r\n",
        "# concadination method\r\n",
        "print('hello,'+name+'(1)')\r\n",
        "\r\n",
        "# below is applicalbe only one obj\r\n",
        "\r\n",
        "print('hello,',name)\r\n",
        "\r\n",
        "# Using f'str' or string interpolation\r\n",
        "print(f'hello,{name} using interpolation')\r\n",
        "\r\n",
        "# Old style\r\n",
        "print('hello, %s'% name + '(3)')\r\n",
        "\r\n",
        "# New Style\r\n",
        "print('Hello,{} ({})'.format(name,str(4)))\r\n",
        "\r\n",
        "# Printing more then one args\r\n",
        "\r\n",
        "# old way\r\n",
        "print('hello,%s and % s' % (name,name2))\r\n",
        "\r\n",
        "# new way\r\n",
        "print('hello,{} and {}'.format(name,name2))"
      ],
      "execution_count": null,
      "outputs": [
        {
          "output_type": "stream",
          "text": [
            "hello,Coder(1)\n",
            "hello, Coder\n",
            "hello,Coder using interpolation\n",
            "hello, Coder(3)\n",
            "Hello,Coder (4)\n",
            "hello,Coder and John\n",
            "hello,Coder and John\n"
          ],
          "name": "stdout"
        }
      ]
    },
    {
      "cell_type": "code",
      "metadata": {
        "colab": {
          "base_uri": "https://localhost:8080/"
        },
        "id": "R4pOg1n5ccmE",
        "outputId": "b4c33c78-b0bd-4952-ea75-3157d7792ca6"
      },
      "source": [
        "# 17\r\n",
        "# when the new style of string\r\n",
        "# formatting can be very handy\r\n",
        "\r\n",
        "a,b = 10,20\r\n",
        "print('a+b=b+a')\r\n",
        "print('{0}+{1}={1}+{0}'.format(\r\n",
        "    a,b\r\n",
        "    )\r\n",
        ")\r\n",
        "# {0} is replaced with a\r\n",
        "# {1} is replaced with b\r\n",
        "# but you only mention them once"
      ],
      "execution_count": null,
      "outputs": [
        {
          "output_type": "stream",
          "text": [
            "a+b=b+a\n",
            "10+20=20+10\n"
          ],
          "name": "stdout"
        }
      ]
    },
    {
      "cell_type": "code",
      "metadata": {
        "id": "U9qitpD1hjM4",
        "colab": {
          "base_uri": "https://localhost:8080/"
        },
        "outputId": "fb46dd46-6539-4b48-884e-8ec7dd5456d2"
      },
      "source": [
        "# 18\r\n",
        "# Examinimg the third parameter of range()\r\n",
        "r = range(1,10,2)\r\n",
        "#       ^ 2 is a step\r\n",
        "# let's convert into the list and print that\r\n",
        "a = list(r)\r\n",
        "print(a)\r\n",
        "# Every second value will be printed"
      ],
      "execution_count": null,
      "outputs": [
        {
          "output_type": "stream",
          "text": [
            "[1, 3, 5, 7, 9]\n"
          ],
          "name": "stdout"
        }
      ]
    },
    {
      "cell_type": "code",
      "metadata": {
        "colab": {
          "base_uri": "https://localhost:8080/"
        },
        "id": "QZc5_C7AngpG",
        "outputId": "77c9c93b-4af8-4f73-fbda-aba6346aa728"
      },
      "source": [
        "# 19\r\n",
        "# an example of using format\r\n",
        "# with named args\r\n",
        "\r\n",
        "# eg: first & last name\r\n",
        "first_name = 'James'\r\n",
        "last_name= 'Bond'\r\n",
        "greeting='My name is {last}. {first} {last}'.format(\r\n",
        "    first=first_name,\r\n",
        "    last=last_name\r\n",
        "    )\r\n",
        "print(greeting)"
      ],
      "execution_count": null,
      "outputs": [
        {
          "output_type": "stream",
          "text": [
            "My name is Bond. James Bond\n"
          ],
          "name": "stdout"
        }
      ]
    },
    {
      "cell_type": "code",
      "metadata": {
        "id": "wiPiYUqkotSX"
      },
      "source": [
        "# 20\n",
        "# Different varients of \n",
        "# variable name\n",
        " \n",
        "# eg:first_name\n",
        " \n",
        "firstname   = 'Coder' #(lowercase)\n",
        "FIRSTNAME   = 'Coder' #(UPPERCASE)        ---> may be constant\n",
        "first_name  = 'Coder' #(snake_case)\n",
        "First_Name  = 'Coder' #(UPPER_SNAKE_CASE) ---> may be constant\n",
        "firstName   = 'Coder' #(camelCase)        ---> javascript\n",
        "FirstName   = 'Coder' #(PascalCase)       ---> java\n",
        "firSTNamE   = 'Coder' #()\n",
        "_first_name = 'Coder' #('_variable name' private variable in python's class)\n",
        "sFirstName  = 'Coder' #(Hungarian)"
      ],
      "execution_count": null,
      "outputs": []
    },
    {
      "cell_type": "code",
      "metadata": {
        "colab": {
          "base_uri": "https://localhost:8080/"
        },
        "id": "QYIMkhaBsWD-",
        "outputId": "5309ffdf-5c74-468b-e62c-919105584ee8"
      },
      "source": [
        "# 21\r\n",
        "# for loop\r\n",
        "for _ in range(5):\r\n",
        "  print(_)"
      ],
      "execution_count": null,
      "outputs": [
        {
          "output_type": "stream",
          "text": [
            "0\n",
            "1\n",
            "2\n",
            "3\n",
            "4\n"
          ],
          "name": "stdout"
        }
      ]
    },
    {
      "cell_type": "code",
      "metadata": {
        "id": "nzJvd-Pqs8Ne",
        "colab": {
          "base_uri": "https://localhost:8080/"
        },
        "outputId": "e6891791-5977-41cf-f117-e5ed5c3ac9ec"
      },
      "source": [
        "# 22\n",
        "# creating simple function\n",
        "def greeting(name):\n",
        "  print('hello,{}'.format(name))\n",
        " \n",
        "greeting('coder')\n",
        "greeting('python')"
      ],
      "execution_count": null,
      "outputs": [
        {
          "output_type": "stream",
          "text": [
            "hello,coder\n",
            "hello,python\n"
          ],
          "name": "stdout"
        }
      ]
    },
    {
      "cell_type": "code",
      "metadata": {
        "id": "lSsGnJds0G5K",
        "colab": {
          "base_uri": "https://localhost:8080/"
        },
        "outputId": "c99b12b3-b34e-4b89-a077-f56c87560696"
      },
      "source": [
        "# 23\r\n",
        "# Regular function\r\n",
        "# def sqr(x):\r\n",
        "#   return x**2\r\n",
        "\r\n",
        "# lambda(inline function)\r\n",
        "# Lambdas (or inline functions) are very handy \r\n",
        "# if the function body is short and simple. \r\n",
        "# You don't need to create a full function \r\n",
        "# using the \"def\" keyword. Use \"lambda\" instead, \r\n",
        "# followed by the argument and the function body.\r\n",
        "sqr = lambda x:x**2 # (**) is defined as exponentiation(x^2) operator\r\n",
        "\r\n",
        "print(sqr(2))"
      ],
      "execution_count": null,
      "outputs": [
        {
          "output_type": "stream",
          "text": [
            "4\n"
          ],
          "name": "stdout"
        }
      ]
    },
    {
      "cell_type": "code",
      "metadata": {
        "colab": {
          "base_uri": "https://localhost:8080/"
        },
        "id": "1We_ZNaLO61L",
        "outputId": "415fb531-63bf-4899-c0b8-425ec1110654"
      },
      "source": [
        "# 24\r\n",
        "# Floating point calculations\r\n",
        "# are not always precise\r\n",
        "\r\n",
        "# it works\r\n",
        "a = 1.0 + 2.0 - 3.0\r\n",
        "print(a)\r\n",
        "\r\n",
        "from decimal import Decimal\r\n",
        "b = Decimal('1.0') + Decimal('2.0') - Decimal('3.0')\r\n",
        "print(b)\r\n",
        "\r\n",
        "# it doesn't !\r\n",
        "ans1= 0.1 + 0.2 - 0.3\r\n",
        "print(ans1)\r\n",
        "\r\n",
        "ans2 = Decimal('0.1') + Decimal('0.2') - Decimal('0.3')\r\n",
        "print(ans2)"
      ],
      "execution_count": null,
      "outputs": [
        {
          "output_type": "stream",
          "text": [
            "0.0\n",
            "0.0\n",
            "5.551115123125783e-17\n",
            "0.0\n"
          ],
          "name": "stdout"
        }
      ]
    },
    {
      "cell_type": "code",
      "metadata": {
        "colab": {
          "base_uri": "https://localhost:8080/"
        },
        "id": "s5kuj5XqQovC",
        "outputId": "2ae76de6-5ce9-4c17-b69e-53d06f38dfbc"
      },
      "source": [
        "# 25\r\n",
        "# going along a list backwards\r\n",
        "list_25 = ['one', 'two', 'three']\r\n",
        "\r\n",
        "print('method_1:')\r\n",
        "for x in list_25[::-1]:\r\n",
        "  print(x)\r\n",
        "  \r\n",
        "print('method_2:')\r\n",
        "for x in reversed(list_25):\r\n",
        "  print(x)"
      ],
      "execution_count": null,
      "outputs": [
        {
          "output_type": "stream",
          "text": [
            "method_1:\n",
            "three\n",
            "two\n",
            "one\n",
            "method_2:\n",
            "three\n",
            "two\n",
            "one\n"
          ],
          "name": "stdout"
        }
      ]
    },
    {
      "cell_type": "code",
      "metadata": {
        "colab": {
          "base_uri": "https://localhost:8080/"
        },
        "id": "yRw5ltNXR552",
        "outputId": "88e4ac0d-794a-41e6-da55-a5815d82eb48"
      },
      "source": [
        "# 26\r\n",
        "#  be careful while reverse the list\r\n",
        "\r\n",
        "list_26=['I','am','a','list']\r\n",
        "reversed_list = reversed(list_26)\r\n",
        "print(list_26)  # original order not broken\r\n",
        "\r\n",
        "reverse_list = list_26.reverse()\r\n",
        "print(list_26) # original order was broken"
      ],
      "execution_count": null,
      "outputs": [
        {
          "output_type": "stream",
          "text": [
            "['I', 'am', 'a', 'list']\n",
            "['list', 'a', 'am', 'I']\n"
          ],
          "name": "stdout"
        }
      ]
    },
    {
      "cell_type": "code",
      "metadata": {
        "colab": {
          "base_uri": "https://localhost:8080/"
        },
        "id": "QAqunLqrTccK",
        "outputId": "dfcea709-6c7e-4746-efab-42bec3d38ad3"
      },
      "source": [
        "# 27\r\n",
        "# Creating simple Documentation:\r\n",
        "def my_f(x):\r\n",
        "  '''\r\n",
        "  This is my function, \r\n",
        "  returns double value \r\n",
        "  of its argument\r\n",
        "  '''\r\n",
        "  return x * 2\r\n",
        "\r\n",
        "print(my_f(2))\r\n",
        "print(my_f.__doc__)"
      ],
      "execution_count": null,
      "outputs": [
        {
          "output_type": "stream",
          "text": [
            "4\n",
            "\n",
            "  This is my function, \n",
            "  returns double value \n",
            "  of its argument\n",
            "  \n"
          ],
          "name": "stdout"
        }
      ]
    },
    {
      "cell_type": "code",
      "metadata": {
        "colab": {
          "base_uri": "https://localhost:8080/",
          "height": 363
        },
        "id": "i4TedeQsUjhz",
        "outputId": "defae5a0-7196-4ff0-a26c-b33086025b17"
      },
      "source": [
        "# 28\r\n",
        "#  the global keyword \r\n",
        "n = 1\r\n",
        "\r\n",
        "def inc_n():\r\n",
        "  n += 1 # gives error because this n's life only inside the inc_n(),\r\n",
        "  #  so, here is no init for n\r\n",
        "\r\n",
        "print(n)\r\n",
        "inc_n()\r\n",
        "print(n)\r\n"
      ],
      "execution_count": null,
      "outputs": [
        {
          "output_type": "stream",
          "text": [
            "1\n"
          ],
          "name": "stdout"
        },
        {
          "output_type": "error",
          "ename": "UnboundLocalError",
          "evalue": "ignored",
          "traceback": [
            "\u001b[0;31m---------------------------------------------------------------------------\u001b[0m",
            "\u001b[0;31mUnboundLocalError\u001b[0m                         Traceback (most recent call last)",
            "\u001b[0;32m<ipython-input-18-d0497de80aec>\u001b[0m in \u001b[0;36m<module>\u001b[0;34m()\u001b[0m\n\u001b[1;32m      7\u001b[0m \u001b[0;34m\u001b[0m\u001b[0m\n\u001b[1;32m      8\u001b[0m \u001b[0mprint\u001b[0m\u001b[0;34m(\u001b[0m\u001b[0mn\u001b[0m\u001b[0;34m)\u001b[0m\u001b[0;34m\u001b[0m\u001b[0;34m\u001b[0m\u001b[0m\n\u001b[0;32m----> 9\u001b[0;31m \u001b[0minc_n\u001b[0m\u001b[0;34m(\u001b[0m\u001b[0;34m)\u001b[0m\u001b[0;34m\u001b[0m\u001b[0;34m\u001b[0m\u001b[0m\n\u001b[0m\u001b[1;32m     10\u001b[0m \u001b[0mprint\u001b[0m\u001b[0;34m(\u001b[0m\u001b[0mn\u001b[0m\u001b[0;34m)\u001b[0m\u001b[0;34m\u001b[0m\u001b[0;34m\u001b[0m\u001b[0m\n",
            "\u001b[0;32m<ipython-input-18-d0497de80aec>\u001b[0m in \u001b[0;36minc_n\u001b[0;34m()\u001b[0m\n\u001b[1;32m      4\u001b[0m \u001b[0;34m\u001b[0m\u001b[0m\n\u001b[1;32m      5\u001b[0m \u001b[0;32mdef\u001b[0m \u001b[0minc_n\u001b[0m\u001b[0;34m(\u001b[0m\u001b[0;34m)\u001b[0m\u001b[0;34m:\u001b[0m\u001b[0;34m\u001b[0m\u001b[0;34m\u001b[0m\u001b[0m\n\u001b[0;32m----> 6\u001b[0;31m   \u001b[0mn\u001b[0m \u001b[0;34m+=\u001b[0m \u001b[0;36m1\u001b[0m\u001b[0;34m\u001b[0m\u001b[0;34m\u001b[0m\u001b[0m\n\u001b[0m\u001b[1;32m      7\u001b[0m \u001b[0;34m\u001b[0m\u001b[0m\n\u001b[1;32m      8\u001b[0m \u001b[0mprint\u001b[0m\u001b[0;34m(\u001b[0m\u001b[0mn\u001b[0m\u001b[0;34m)\u001b[0m\u001b[0;34m\u001b[0m\u001b[0;34m\u001b[0m\u001b[0m\n",
            "\u001b[0;31mUnboundLocalError\u001b[0m: local variable 'n' referenced before assignment"
          ]
        }
      ]
    },
    {
      "cell_type": "code",
      "metadata": {
        "colab": {
          "base_uri": "https://localhost:8080/"
        },
        "id": "jB0PrgZXVTcw",
        "outputId": "53dc104a-638a-42a3-82e2-153c116246b9"
      },
      "source": [
        "# fix\r\n",
        "n = 1\r\n",
        "\r\n",
        "def inc_n():\r\n",
        "  global n # by doing this \r\n",
        "  # we specify the above globaly initialized n = local n(which is inside the inc_n())\r\n",
        "  n += 1\r\n",
        "\r\n",
        "print(n) # before increment\r\n",
        "inc_n()\r\n",
        "print(n) # after increment"
      ],
      "execution_count": null,
      "outputs": [
        {
          "output_type": "stream",
          "text": [
            "1\n",
            "2\n"
          ],
          "name": "stdout"
        }
      ]
    },
    {
      "cell_type": "code",
      "metadata": {
        "colab": {
          "base_uri": "https://localhost:8080/"
        },
        "id": "VmlxvQ1xWZHi",
        "outputId": "de587b1a-e41d-4290-9f50-6e656c3fb9e2"
      },
      "source": [
        "# 29\r\n",
        "# supplying default values for function args\r\n",
        "def greet(name='Default'):\r\n",
        "  print(f'hello,{name}')\r\n",
        "\r\n",
        "greet('coder')\r\n",
        "greet()\r\n",
        "greet('MyName')\r\n"
      ],
      "execution_count": null,
      "outputs": [
        {
          "output_type": "stream",
          "text": [
            "hello,coder\n",
            "hello,Default\n",
            "hello,MyName\n"
          ],
          "name": "stdout"
        }
      ]
    },
    {
      "cell_type": "code",
      "metadata": {
        "colab": {
          "base_uri": "https://localhost:8080/"
        },
        "id": "B8dDfpYbaEG6",
        "outputId": "532f4a3f-97a3-48ad-cb7a-1b652ef0ac84"
      },
      "source": [
        "# 30\r\n",
        "# A function that returns two values\r\n",
        "def f():\r\n",
        "  return 10,11\r\n",
        "\r\n",
        "a,b=f()\r\n",
        "print(a)\r\n",
        "print(b)\r\n",
        "\r\n",
        "# what if you only take one ?\r\n",
        "c=f()\r\n",
        "print(c)"
      ],
      "execution_count": null,
      "outputs": [
        {
          "output_type": "stream",
          "text": [
            "10\n",
            "11\n",
            "(10, 11)\n"
          ],
          "name": "stdout"
        }
      ]
    },
    {
      "cell_type": "code",
      "metadata": {
        "colab": {
          "base_uri": "https://localhost:8080/"
        },
        "id": "95Lhmu7jbYhU",
        "outputId": "6c77e284-0393-41d7-9d87-e9d84ea7735b"
      },
      "source": [
        "# 31\r\n",
        "def my_function(a, b):\r\n",
        "  return a*b\r\n",
        "\r\n",
        "# with arguments,(*args => arguments )\r\n",
        "# you can not change their order,\r\n",
        "# insteed of you should specify the arguments in order\r\n",
        "# when calling a function\r\n",
        "print(\"result = \",my_function(2,3)) \r\n",
        "print('a =',a)\r\n",
        "print('b =',b)\r\n",
        "\r\n",
        "# with named arguments, (**kwargs=> keyword arguments )\r\n",
        "# you can change their order when\r\n",
        "# calling a function\r\n",
        "print(\"result = \",my_function(b=3,a=2))\r\n",
        "print('a =',a)\r\n",
        "print('b =',b)\r\n"
      ],
      "execution_count": null,
      "outputs": [
        {
          "output_type": "stream",
          "text": [
            "result =  6\n",
            "a = 10\n",
            "b = 11\n",
            "result =  6\n",
            "a = 10\n",
            "b = 11\n"
          ],
          "name": "stdout"
        }
      ]
    },
    {
      "cell_type": "code",
      "metadata": {
        "colab": {
          "base_uri": "https://localhost:8080/"
        },
        "id": "NyeeIqvbwNao",
        "outputId": "361f8369-6856-4a93-9a1f-870342e96930"
      },
      "source": [
        "# 32\r\n",
        "# args and kwargs\r\n",
        "# args => arguments [] list\r\n",
        "# kwargs => keyword arguments {} dict\r\n",
        "\r\n",
        "\r\n",
        "# args\r\n",
        "def my_demo(*args):\r\n",
        "  print('args = ',args) # tuple\r\n",
        "  for arg in args: # looping that list(args)\r\n",
        "    print(arg)\r\n",
        "\r\n",
        "\r\n",
        "# args-usage:\r\n",
        "salary_expected = 10000\r\n",
        "my_demo('Robert', 'Downey', 'Jr', 21, '2020-mar-19', '+17-83626413', salary_expected)\r\n",
        "\r\n",
        "\r\n",
        "# kwargs\r\n",
        "def my_demo_2(**kwargs):\r\n",
        "  print('kwargs = ',kwargs)\r\n",
        "  for item in kwargs.items(): # looping that dict(kwargs)\r\n",
        "    print(item)\r\n",
        "\r\n",
        "# kwargs-usage:\r\n",
        "my_demo_2(\r\n",
        "    first_name = 'Robert',\r\n",
        "    middle_name = 'Downey',\r\n",
        "    last_name = 'Jr',\r\n",
        "    age=21,\r\n",
        "    d_o_b='2020-mar-19',\r\n",
        "    phno='+17-83626413',\r\n",
        "    salary=salary_expected\r\n",
        ")"
      ],
      "execution_count": null,
      "outputs": [
        {
          "output_type": "stream",
          "text": [
            "args =  ('Robert', 'Downey', 'Jr', 21, '2020-mar-19', '+17-83626413', 10000)\n",
            "Robert\n",
            "Downey\n",
            "Jr\n",
            "21\n",
            "2020-mar-19\n",
            "+17-83626413\n",
            "10000\n",
            "kwargs =  {'first_name': 'Robert', 'middle_name': 'Downey', 'last_name': 'Jr', 'age': 21, 'd_o_b': '2020-mar-19', 'phno': '+17-83626413', 'salary': 10000}\n",
            "('first_name', 'Robert')\n",
            "('middle_name', 'Downey')\n",
            "('last_name', 'Jr')\n",
            "('age', 21)\n",
            "('d_o_b', '2020-mar-19')\n",
            "('phno', '+17-83626413')\n",
            "('salary', 10000)\n"
          ],
          "name": "stdout"
        }
      ]
    },
    {
      "cell_type": "code",
      "metadata": {
        "colab": {
          "base_uri": "https://localhost:8080/"
        },
        "id": "45BHg5Mw2DOJ",
        "outputId": "f0ff34ea-2166-4357-8057-1d5658410a71"
      },
      "source": [
        "# 33\r\n",
        "# using args, kwargs and normal arguments \r\n",
        "# NOTE : args = parameters both are have same meaning\r\n",
        "\r\n",
        "def my_demo_3(my_arg,*args,**kwargs):\r\n",
        "  print('my_args = ',my_arg)\r\n",
        "  print('args = ',args)\r\n",
        "  print('kwargs = ',kwargs)\r\n",
        "\r\n",
        "my_demo_3('my_arg_value', # my_arg\r\n",
        "          'Robert',  # args\r\n",
        "          'Downey',  # args\r\n",
        "          'Jr',      # args\r\n",
        "          age=21,                # kwargs\r\n",
        "          d_o_b='2020-mar-19',   # kwargs\r\n",
        "          phno='+17-83626413',   # kwargs\r\n",
        "          salary=salary_expected # kwargs\r\n",
        "        )"
      ],
      "execution_count": null,
      "outputs": [
        {
          "output_type": "stream",
          "text": [
            "my_args =  my_arg_value\n",
            "args =  ('Robert', 'Downey', 'Jr')\n",
            "kwargs =  {'age': 21, 'd_o_b': '2020-mar-19', 'phno': '+17-83626413', 'salary': 10000}\n"
          ],
          "name": "stdout"
        }
      ]
    },
    {
      "cell_type": "code",
      "metadata": {
        "colab": {
          "base_uri": "https://localhost:8080/"
        },
        "id": "2YPlJcF141OC",
        "outputId": "650ef313-b519-4d2e-ae2b-16508ab967f9"
      },
      "source": [
        "# 34\r\n",
        "# let's try it in another way\r\n",
        "my_argument = 'my argument value' # you can create like this n no of args\r\n",
        "# for args\r\n",
        "list_34 = [1,'this','is','list']\r\n",
        "# for kwargs\r\n",
        "dict_34 = {\r\n",
        "     'first_name': 'Robert',\r\n",
        "     'middle_name': 'Downey',\r\n",
        "     'last_name': 'Jr',\r\n",
        "     'age': 21,\r\n",
        "     'd_o_b': '2020-mar-19',\r\n",
        "     'phno': '+17-83626413',\r\n",
        "     'salary': 10000\r\n",
        "     }\r\n",
        "#  using existing function\r\n",
        "# my_demo_3(my_argument,list_34, dict_34) => if we pass like this then dict_34 will become an args \r\n",
        "my_demo_3(my_argument,list_34, dict_data=dict_34) #  do like this,because that is 'keword_arguments'"
      ],
      "execution_count": null,
      "outputs": [
        {
          "output_type": "stream",
          "text": [
            "my_args =  my argument value\n",
            "args =  ([1, 'this', 'is', 'list'],)\n",
            "kwargs =  {'dict_data': {'first_name': 'Robert', 'middle_name': 'Downey', 'last_name': 'Jr', 'age': 21, 'd_o_b': '2020-mar-19', 'phno': '+17-83626413', 'salary': 10000}}\n"
          ],
          "name": "stdout"
        }
      ]
    },
    {
      "cell_type": "code",
      "metadata": {
        "colab": {
          "base_uri": "https://localhost:8080/"
        },
        "id": "cX8Qj0wd6us9",
        "outputId": "f7f495d2-0142-465b-8cca-9a73146ff783"
      },
      "source": [
        "# 35\r\n",
        "# what if you want a function like\r\n",
        "# that computes an area of \r\n",
        "# both square and rectangle\r\n",
        "def area(width,height=None):\r\n",
        "  if height == None:\r\n",
        "    height = width\r\n",
        "  return width * height\r\n",
        "\r\n",
        "print(area(20))\r\n",
        "print(area(20,30))\r\n"
      ],
      "execution_count": null,
      "outputs": [
        {
          "output_type": "stream",
          "text": [
            "400\n",
            "600\n"
          ],
          "name": "stdout"
        }
      ]
    },
    {
      "cell_type": "code",
      "metadata": {
        "colab": {
          "base_uri": "https://localhost:8080/"
        },
        "id": "dyIFkUPH7mZ1",
        "outputId": "367a6fdf-dacb-4d94-c4d9-d7d718d66644"
      },
      "source": [
        "# 36\r\n",
        "# passing a list to a function\r\n",
        "list_36=[1,2,3,4,5]\r\n",
        "\r\n",
        "def f(x):\r\n",
        "  print(x)\r\n",
        "  x[2]='TWO'\r\n",
        "  print(x)\r\n",
        "\r\n",
        "f(list_36)"
      ],
      "execution_count": null,
      "outputs": [
        {
          "output_type": "stream",
          "text": [
            "[1, 2, 3, 4, 5]\n",
            "[1, 2, 'TWO', 4, 5]\n"
          ],
          "name": "stdout"
        }
      ]
    },
    {
      "cell_type": "code",
      "metadata": {
        "colab": {
          "base_uri": "https://localhost:8080/"
        },
        "id": "mnnPuRdQ8Qi_",
        "outputId": "9aeb64b9-8ed9-442b-b7b0-66c3c3835da4"
      },
      "source": [
        "# 37\r\n",
        "# a possible implementation\r\n",
        "# of a non-recursive factorial\r\n",
        "# calculaton for a positive ints\r\n",
        "\r\n",
        "# eg: n = 5\r\n",
        "# computation will be 5*4*3*2*1=120\r\n",
        "\r\n",
        "def factorial(n):\r\n",
        "  f = 1\r\n",
        "  for m in range(1,n+1): # n+1 because the second parameter will be a limit in this\r\n",
        "  # if we specify n insteed of n+1 then computation will perform only 4*3*2*1 = 24\r\n",
        "    f*=m\r\n",
        "  return f\r\n",
        "\r\n",
        "print(factorial(5)) #120"
      ],
      "execution_count": null,
      "outputs": [
        {
          "output_type": "stream",
          "text": [
            "120\n"
          ],
          "name": "stdout"
        }
      ]
    },
    {
      "cell_type": "code",
      "metadata": {
        "colab": {
          "base_uri": "https://localhost:8080/"
        },
        "id": "4Umfqs2x-2DU",
        "outputId": "e5dd2e34-71c4-4d3e-a804-456dac6f4171"
      },
      "source": [
        "# 38\r\n",
        "# computing a factorial \r\n",
        "# Using recursion\r\n",
        "\r\n",
        "def factorial2():\r\n",
        "  if n > 1:\r\n",
        "    return n * factorial2(n-1)\r\n",
        "  else:\r\n",
        "    return 1\r\n",
        "\r\n",
        "print(factorial(5))\r\n",
        "print(factorial(1))\r\n"
      ],
      "execution_count": null,
      "outputs": [
        {
          "output_type": "stream",
          "text": [
            "120\n",
            "1\n"
          ],
          "name": "stdout"
        }
      ]
    },
    {
      "cell_type": "code",
      "metadata": {
        "colab": {
          "base_uri": "https://localhost:8080/"
        },
        "id": "ehDJxC87_ltS",
        "outputId": "2eee4115-00e3-4776-f986-a868fb7def93"
      },
      "source": [
        "# 39\r\n",
        "# we can write if else in a single line\r\n",
        "\r\n",
        "# regular work\r\n",
        "\r\n",
        "# result = 'pass'\r\n",
        "# if result == 'pass':\r\n",
        "#   print('Ok')\r\n",
        "# else:\r\n",
        "#   print('Not Ok')\r\n",
        "\r\n",
        "result ='fail'\r\n",
        "res = 'Ok' if result == 'pass' else 'Not Ok'\r\n",
        "print(res)"
      ],
      "execution_count": null,
      "outputs": [
        {
          "output_type": "stream",
          "text": [
            "Not Ok\n"
          ],
          "name": "stdout"
        }
      ]
    },
    {
      "cell_type": "code",
      "metadata": {
        "colab": {
          "base_uri": "https://localhost:8080/",
          "height": 618
        },
        "id": "4HAYFyefAx3l",
        "outputId": "510b9197-74bc-468c-b835-b4e95b28cb56"
      },
      "source": [
        "# 40\r\n",
        "# simple echo program \r\n",
        "# imagin like talking tom :)\r\n",
        "while True:\r\n",
        "  s=input() # to get input from user\r\n",
        "  print(s)  # output"
      ],
      "execution_count": null,
      "outputs": [
        {
          "output_type": "stream",
          "text": [
            "hi\n",
            "hi\n",
            "hello\n",
            "hello\n"
          ],
          "name": "stdout"
        },
        {
          "output_type": "error",
          "ename": "KeyboardInterrupt",
          "evalue": "ignored",
          "traceback": [
            "\u001b[0;31m---------------------------------------------------------------------------\u001b[0m",
            "\u001b[0;31mKeyboardInterrupt\u001b[0m                         Traceback (most recent call last)",
            "\u001b[0;32m/usr/local/lib/python3.6/dist-packages/ipykernel/kernelbase.py\u001b[0m in \u001b[0;36m_input_request\u001b[0;34m(self, prompt, ident, parent, password)\u001b[0m\n\u001b[1;32m    728\u001b[0m             \u001b[0;32mtry\u001b[0m\u001b[0;34m:\u001b[0m\u001b[0;34m\u001b[0m\u001b[0;34m\u001b[0m\u001b[0m\n\u001b[0;32m--> 729\u001b[0;31m                 \u001b[0mident\u001b[0m\u001b[0;34m,\u001b[0m \u001b[0mreply\u001b[0m \u001b[0;34m=\u001b[0m \u001b[0mself\u001b[0m\u001b[0;34m.\u001b[0m\u001b[0msession\u001b[0m\u001b[0;34m.\u001b[0m\u001b[0mrecv\u001b[0m\u001b[0;34m(\u001b[0m\u001b[0mself\u001b[0m\u001b[0;34m.\u001b[0m\u001b[0mstdin_socket\u001b[0m\u001b[0;34m,\u001b[0m \u001b[0;36m0\u001b[0m\u001b[0;34m)\u001b[0m\u001b[0;34m\u001b[0m\u001b[0;34m\u001b[0m\u001b[0m\n\u001b[0m\u001b[1;32m    730\u001b[0m             \u001b[0;32mexcept\u001b[0m \u001b[0mException\u001b[0m\u001b[0;34m:\u001b[0m\u001b[0;34m\u001b[0m\u001b[0;34m\u001b[0m\u001b[0m\n",
            "\u001b[0;32m/usr/local/lib/python3.6/dist-packages/jupyter_client/session.py\u001b[0m in \u001b[0;36mrecv\u001b[0;34m(self, socket, mode, content, copy)\u001b[0m\n\u001b[1;32m    802\u001b[0m         \u001b[0;32mtry\u001b[0m\u001b[0;34m:\u001b[0m\u001b[0;34m\u001b[0m\u001b[0;34m\u001b[0m\u001b[0m\n\u001b[0;32m--> 803\u001b[0;31m             \u001b[0mmsg_list\u001b[0m \u001b[0;34m=\u001b[0m \u001b[0msocket\u001b[0m\u001b[0;34m.\u001b[0m\u001b[0mrecv_multipart\u001b[0m\u001b[0;34m(\u001b[0m\u001b[0mmode\u001b[0m\u001b[0;34m,\u001b[0m \u001b[0mcopy\u001b[0m\u001b[0;34m=\u001b[0m\u001b[0mcopy\u001b[0m\u001b[0;34m)\u001b[0m\u001b[0;34m\u001b[0m\u001b[0;34m\u001b[0m\u001b[0m\n\u001b[0m\u001b[1;32m    804\u001b[0m         \u001b[0;32mexcept\u001b[0m \u001b[0mzmq\u001b[0m\u001b[0;34m.\u001b[0m\u001b[0mZMQError\u001b[0m \u001b[0;32mas\u001b[0m \u001b[0me\u001b[0m\u001b[0;34m:\u001b[0m\u001b[0;34m\u001b[0m\u001b[0;34m\u001b[0m\u001b[0m\n",
            "\u001b[0;32m/usr/local/lib/python3.6/dist-packages/zmq/sugar/socket.py\u001b[0m in \u001b[0;36mrecv_multipart\u001b[0;34m(self, flags, copy, track)\u001b[0m\n\u001b[1;32m    582\u001b[0m         \"\"\"\n\u001b[0;32m--> 583\u001b[0;31m         \u001b[0mparts\u001b[0m \u001b[0;34m=\u001b[0m \u001b[0;34m[\u001b[0m\u001b[0mself\u001b[0m\u001b[0;34m.\u001b[0m\u001b[0mrecv\u001b[0m\u001b[0;34m(\u001b[0m\u001b[0mflags\u001b[0m\u001b[0;34m,\u001b[0m \u001b[0mcopy\u001b[0m\u001b[0;34m=\u001b[0m\u001b[0mcopy\u001b[0m\u001b[0;34m,\u001b[0m \u001b[0mtrack\u001b[0m\u001b[0;34m=\u001b[0m\u001b[0mtrack\u001b[0m\u001b[0;34m)\u001b[0m\u001b[0;34m]\u001b[0m\u001b[0;34m\u001b[0m\u001b[0;34m\u001b[0m\u001b[0m\n\u001b[0m\u001b[1;32m    584\u001b[0m         \u001b[0;31m# have first part already, only loop while more to receive\u001b[0m\u001b[0;34m\u001b[0m\u001b[0;34m\u001b[0m\u001b[0;34m\u001b[0m\u001b[0m\n",
            "\u001b[0;32mzmq/backend/cython/socket.pyx\u001b[0m in \u001b[0;36mzmq.backend.cython.socket.Socket.recv\u001b[0;34m()\u001b[0m\n",
            "\u001b[0;32mzmq/backend/cython/socket.pyx\u001b[0m in \u001b[0;36mzmq.backend.cython.socket.Socket.recv\u001b[0;34m()\u001b[0m\n",
            "\u001b[0;32mzmq/backend/cython/socket.pyx\u001b[0m in \u001b[0;36mzmq.backend.cython.socket._recv_copy\u001b[0;34m()\u001b[0m\n",
            "\u001b[0;32m/usr/local/lib/python3.6/dist-packages/zmq/backend/cython/checkrc.pxd\u001b[0m in \u001b[0;36mzmq.backend.cython.checkrc._check_rc\u001b[0;34m()\u001b[0m\n",
            "\u001b[0;31mKeyboardInterrupt\u001b[0m: ",
            "\nDuring handling of the above exception, another exception occurred:\n",
            "\u001b[0;31mKeyboardInterrupt\u001b[0m                         Traceback (most recent call last)",
            "\u001b[0;32m<ipython-input-50-6bc6599e4cd8>\u001b[0m in \u001b[0;36m<module>\u001b[0;34m()\u001b[0m\n\u001b[1;32m      3\u001b[0m \u001b[0;31m# imagin like talking tom :)\u001b[0m\u001b[0;34m\u001b[0m\u001b[0;34m\u001b[0m\u001b[0;34m\u001b[0m\u001b[0m\n\u001b[1;32m      4\u001b[0m \u001b[0;32mwhile\u001b[0m \u001b[0;32mTrue\u001b[0m\u001b[0;34m:\u001b[0m\u001b[0;34m\u001b[0m\u001b[0;34m\u001b[0m\u001b[0m\n\u001b[0;32m----> 5\u001b[0;31m   \u001b[0ms\u001b[0m\u001b[0;34m=\u001b[0m\u001b[0minput\u001b[0m\u001b[0;34m(\u001b[0m\u001b[0;34m)\u001b[0m \u001b[0;31m# to get input from user\u001b[0m\u001b[0;34m\u001b[0m\u001b[0;34m\u001b[0m\u001b[0m\n\u001b[0m\u001b[1;32m      6\u001b[0m   \u001b[0mprint\u001b[0m\u001b[0;34m(\u001b[0m\u001b[0ms\u001b[0m\u001b[0;34m)\u001b[0m  \u001b[0;31m# output\u001b[0m\u001b[0;34m\u001b[0m\u001b[0;34m\u001b[0m\u001b[0m\n",
            "\u001b[0;32m/usr/local/lib/python3.6/dist-packages/ipykernel/kernelbase.py\u001b[0m in \u001b[0;36mraw_input\u001b[0;34m(self, prompt)\u001b[0m\n\u001b[1;32m    702\u001b[0m             \u001b[0mself\u001b[0m\u001b[0;34m.\u001b[0m\u001b[0m_parent_ident\u001b[0m\u001b[0;34m,\u001b[0m\u001b[0;34m\u001b[0m\u001b[0;34m\u001b[0m\u001b[0m\n\u001b[1;32m    703\u001b[0m             \u001b[0mself\u001b[0m\u001b[0;34m.\u001b[0m\u001b[0m_parent_header\u001b[0m\u001b[0;34m,\u001b[0m\u001b[0;34m\u001b[0m\u001b[0;34m\u001b[0m\u001b[0m\n\u001b[0;32m--> 704\u001b[0;31m             \u001b[0mpassword\u001b[0m\u001b[0;34m=\u001b[0m\u001b[0;32mFalse\u001b[0m\u001b[0;34m,\u001b[0m\u001b[0;34m\u001b[0m\u001b[0;34m\u001b[0m\u001b[0m\n\u001b[0m\u001b[1;32m    705\u001b[0m         )\n\u001b[1;32m    706\u001b[0m \u001b[0;34m\u001b[0m\u001b[0m\n",
            "\u001b[0;32m/usr/local/lib/python3.6/dist-packages/ipykernel/kernelbase.py\u001b[0m in \u001b[0;36m_input_request\u001b[0;34m(self, prompt, ident, parent, password)\u001b[0m\n\u001b[1;32m    732\u001b[0m             \u001b[0;32mexcept\u001b[0m \u001b[0mKeyboardInterrupt\u001b[0m\u001b[0;34m:\u001b[0m\u001b[0;34m\u001b[0m\u001b[0;34m\u001b[0m\u001b[0m\n\u001b[1;32m    733\u001b[0m                 \u001b[0;31m# re-raise KeyboardInterrupt, to truncate traceback\u001b[0m\u001b[0;34m\u001b[0m\u001b[0;34m\u001b[0m\u001b[0;34m\u001b[0m\u001b[0m\n\u001b[0;32m--> 734\u001b[0;31m                 \u001b[0;32mraise\u001b[0m \u001b[0mKeyboardInterrupt\u001b[0m\u001b[0;34m\u001b[0m\u001b[0;34m\u001b[0m\u001b[0m\n\u001b[0m\u001b[1;32m    735\u001b[0m             \u001b[0;32melse\u001b[0m\u001b[0;34m:\u001b[0m\u001b[0;34m\u001b[0m\u001b[0;34m\u001b[0m\u001b[0m\n\u001b[1;32m    736\u001b[0m                 \u001b[0;32mbreak\u001b[0m\u001b[0;34m\u001b[0m\u001b[0;34m\u001b[0m\u001b[0m\n",
            "\u001b[0;31mKeyboardInterrupt\u001b[0m: "
          ]
        }
      ]
    },
    {
      "cell_type": "code",
      "metadata": {
        "colab": {
          "base_uri": "https://localhost:8080/"
        },
        "id": "VkmiOFdGBj4_",
        "outputId": "7e86c3de-c7f3-44ae-a2dc-fb15c75ac446"
      },
      "source": [
        "# 41\r\n",
        "# error handling\r\n",
        "while True:\r\n",
        "  try:\r\n",
        "    s=input()\r\n",
        "    print(s)\r\n",
        "  except:\r\n",
        "    print('good bye :(')\r\n",
        "    break"
      ],
      "execution_count": null,
      "outputs": [
        {
          "output_type": "stream",
          "text": [
            "hello\n",
            "hello\n",
            "world\n",
            "world\n",
            "good bye :(\n"
          ],
          "name": "stdout"
        }
      ]
    },
    {
      "cell_type": "code",
      "metadata": {
        "id": "W6YvdosLCQ25",
        "colab": {
          "base_uri": "https://localhost:8080/"
        },
        "outputId": "164fbcde-832b-4ac0-dabf-9fe2cfe09966"
      },
      "source": [
        "# 42\r\n",
        "# creating & writing txt file \r\n",
        "f = open('data.txt','w')\r\n",
        "# or:\r\n",
        "# f = open(file_name='data.txt',mood='w')\r\n",
        "# w => create and write\r\n",
        "# r => read(default)\r\n",
        "# a => append\r\n",
        "# x => create if not exist, else raise exception about the file exists\r\n",
        "f.write( # we can specify multi line string by using single or double quots like below\r\n",
        "'''\r\n",
        "line 1\r\n",
        "line 2     \r\n",
        "line 3\r\n",
        "'''\r\n",
        ")\r\n",
        "# Reading form a text file\r\n",
        "for line in open('data.txt'):\r\n",
        "  print(line,end='') # we should specify the end='' to skip the new line creation by print()"
      ],
      "execution_count": null,
      "outputs": [
        {
          "output_type": "stream",
          "text": [
            "\n",
            "line 1\n",
            "line 2     \n",
            "line 3\n"
          ],
          "name": "stdout"
        }
      ]
    },
    {
      "cell_type": "code",
      "metadata": {
        "id": "CCUXkTO8Ym0l"
      },
      "source": [
        "# let's simplify the above code \r\n",
        "#  using 'with'\r\n",
        "with open('data.txt','w') as f:\r\n",
        "  f.write('hello,world') # the file is overwritten !\r\n",
        "#  we don't need to close()"
      ],
      "execution_count": null,
      "outputs": []
    },
    {
      "cell_type": "code",
      "metadata": {
        "colab": {
          "base_uri": "https://localhost:8080/"
        },
        "id": "T4jT0GCTZnpJ",
        "outputId": "24785f67-d860-4894-cf48-ce449011c1ce"
      },
      "source": [
        "# let's test the abive code\r\n",
        "for line in open('data.txt','r'):\r\n",
        "  print(line)"
      ],
      "execution_count": null,
      "outputs": [
        {
          "output_type": "stream",
          "text": [
            "hello,world\n"
          ],
          "name": "stdout"
        }
      ]
    },
    {
      "cell_type": "code",
      "metadata": {
        "colab": {
          "base_uri": "https://localhost:8080/"
        },
        "id": "LJrT-5njDChE",
        "outputId": "fa06e8e3-fb73-48ec-fa08-826aaee56828"
      },
      "source": [
        "# 43\r\n",
        "# Creating a class in python\r\n",
        "class Animal:\r\n",
        "  def talk(self): # self is the instance Object\r\n",
        "    print('I am an animal')\r\n",
        "  \r\n",
        "# Creating an object to that class\r\n",
        "animal1 = Animal()\r\n",
        "animal1.talk()\r\n",
        "\r\n",
        "# Creating another Animal\r\n",
        "animal2 = Animal()\r\n",
        "animal2.talk()"
      ],
      "execution_count": null,
      "outputs": [
        {
          "output_type": "stream",
          "text": [
            "I am an animal\n",
            "I am an animal\n"
          ],
          "name": "stdout"
        }
      ]
    },
    {
      "cell_type": "code",
      "metadata": {
        "colab": {
          "base_uri": "https://localhost:8080/"
        },
        "id": "POor84-8GldW",
        "outputId": "b4f87a07-8c55-4ae2-d862-1bb5f8b6fe6f"
      },
      "source": [
        "# 44 \r\n",
        "# Using attributes to keep data\r\n",
        "# class\r\n",
        "#    attribute\r\n",
        "#    method\r\n",
        "\r\n",
        "\r\n",
        "class Bird:\r\n",
        "  def __init__(self,name): #Constructor\r\n",
        "    self.name = name # class attribute\r\n",
        "  def talk(self):    # class method\r\n",
        "    print('my name is '+self.name)\r\n",
        "\r\n",
        "parrot = Bird('Parrot')\r\n",
        "parrot.talk()\r\n"
      ],
      "execution_count": null,
      "outputs": [
        {
          "output_type": "stream",
          "text": [
            "my name is Parrot\n"
          ],
          "name": "stdout"
        }
      ]
    },
    {
      "cell_type": "code",
      "metadata": {
        "id": "1hEhwHLxIKhr"
      },
      "source": [
        "# 45\r\n",
        "# Counting class objects\r\n",
        "class Item:\r\n",
        "  counter = 0 # class-level counter(Item.counter)\r\n",
        "  def __init__(self):\r\n",
        "    Item.counter+=1\r\n",
        "    self.counter=Item.counter # instance-level attribute(self.counter)\r\n",
        "  def my_number(self):\r\n",
        "    print(self.counter)\r\n",
        "\r\n",
        "for _ in range(5):\r\n",
        "  objectN = Item() # looping to create n number of object to the class \r\n",
        "  print('My number is'+str(objectN.my_number()))\r\n"
      ],
      "execution_count": null,
      "outputs": []
    },
    {
      "cell_type": "code",
      "metadata": {
        "colab": {
          "base_uri": "https://localhost:8080/"
        },
        "id": "GzBUDdc1KEOm",
        "outputId": "8c7b4130-1c70-4797-dbce-337ef22f9680"
      },
      "source": [
        "# 46\r\n",
        "# Adding annotation to a function\r\n",
        "\r\n",
        "\r\n",
        "def power(a: int, b : int)->int:\r\n",
        "  return a ** b\r\n",
        "\r\n",
        "print(power(2,2))\r\n",
        "print(power.__annotations__)"
      ],
      "execution_count": null,
      "outputs": [
        {
          "output_type": "stream",
          "text": [
            "4\n",
            "{'a': <class 'int'>, 'b': <class 'int'>, 'return': <class 'int'>}\n"
          ],
          "name": "stdout"
        }
      ]
    },
    {
      "cell_type": "code",
      "metadata": {
        "colab": {
          "base_uri": "https://localhost:8080/"
        },
        "id": "Zh_AGg0GK3D8",
        "outputId": "2ec5fa18-54b9-467c-cb9d-0c5596e52a2c"
      },
      "source": [
        "# 47\r\n",
        "# Custom Object formating\r\n",
        "class Values:\r\n",
        "  def __init__(self,value):\r\n",
        "    self.value = value\r\n",
        "\r\n",
        "obj=Values(10)\r\n",
        "print(obj)"
      ],
      "execution_count": null,
      "outputs": [
        {
          "output_type": "stream",
          "text": [
            "<__main__.Values object at 0x7f88a54a26d8>\n"
          ],
          "name": "stdout"
        }
      ]
    },
    {
      "cell_type": "code",
      "metadata": {
        "colab": {
          "base_uri": "https://localhost:8080/"
        },
        "id": "9Pbf5NIrMwvr",
        "outputId": "c054c052-fcd9-4613-c097-ec7652139e55"
      },
      "source": [
        "class Values:\r\n",
        "\r\n",
        "  def __init__(self,value):\r\n",
        "    self.value = value\r\n",
        "\r\n",
        "  def __str__(self):        #custom formating\r\n",
        "    return str(self.value)\r\n",
        "\r\n",
        "obj=Values(10)\r\n",
        "print(obj)"
      ],
      "execution_count": null,
      "outputs": [
        {
          "output_type": "stream",
          "text": [
            "10\n"
          ],
          "name": "stdout"
        }
      ]
    },
    {
      "cell_type": "code",
      "metadata": {
        "colab": {
          "base_uri": "https://localhost:8080/"
        },
        "id": "GEEQYuxDNCRW",
        "outputId": "284af006-6448-4970-f320-8a4a4f026e65"
      },
      "source": [
        "# 48\r\n",
        "# Using iterators\r\n",
        "\r\n",
        "list_48 = ['alpha','beta','gamma']\r\n",
        "\r\n",
        "data = iter(list_48)\r\n",
        "print('data = ',data)\r\n",
        "\r\n",
        "a = next(data)\r\n",
        "print('a = ',a)\r\n",
        "\r\n",
        "b = next(data)\r\n",
        "print('b = ',b)\r\n",
        "\r\n",
        "c =  next(data)\r\n",
        "print('c = ',c)"
      ],
      "execution_count": null,
      "outputs": [
        {
          "output_type": "stream",
          "text": [
            "data =  <list_iterator object at 0x7f88a54a28d0>\n",
            "a =  alpha\n",
            "b =  beta\n",
            "c =  gamma\n"
          ],
          "name": "stdout"
        }
      ]
    },
    {
      "cell_type": "code",
      "metadata": {
        "colab": {
          "base_uri": "https://localhost:8080/"
        },
        "id": "u_xi4VF7N_l7",
        "outputId": "e71b4b76-5f5a-475f-9cd8-86661b0c0687"
      },
      "source": [
        "# 49\r\n",
        "# Using yield\r\n",
        "# This keyword, \"yield\", is maybe the least intuitive in Python.\r\n",
        "# You place it where you would normally place a \"return\" in a function.\r\n",
        "# But with \"yield\", the function can be converted into a generator object \r\n",
        "# that keeps its state between calls. In the given example, the f() function \r\n",
        "# returns (yields) another number from the range each time you call it. \r\n",
        "# The next time you call it, the \"i\" variable continues from where it was last time.\r\n",
        "\r\n",
        "def f():\r\n",
        "  for i in range(100):\r\n",
        "    yield i \r\n",
        "\r\n",
        "g = f() # generator object\r\n",
        "\r\n",
        "print(next(g))\r\n",
        "print(next(g))\r\n",
        "print(next(g))\r\n",
        "print(next(g))\r\n",
        "print(next(g))"
      ],
      "execution_count": null,
      "outputs": [
        {
          "output_type": "stream",
          "text": [
            "0\n",
            "1\n",
            "2\n",
            "3\n",
            "4\n"
          ],
          "name": "stdout"
        }
      ]
    },
    {
      "cell_type": "code",
      "metadata": {
        "colab": {
          "base_uri": "https://localhost:8080/"
        },
        "id": "HXF68wJsPVoL",
        "outputId": "5450393a-93b9-484b-dc8a-ca9d35143bbc"
      },
      "source": [
        "# 50\r\n",
        "# what if we have like below:\r\n",
        "\r\n",
        "g1 = f()\r\n",
        "g2 = f()\r\n",
        "\r\n",
        "print(next(g1))\r\n",
        "print(next(g2))\r\n",
        "print(next(g1))\r\n",
        "print(next(g2))\r\n",
        "print(next(g1))\r\n",
        "print(next(g2))"
      ],
      "execution_count": null,
      "outputs": [
        {
          "output_type": "stream",
          "text": [
            "0\n",
            "0\n",
            "1\n",
            "1\n",
            "2\n",
            "2\n"
          ],
          "name": "stdout"
        }
      ]
    },
    {
      "cell_type": "code",
      "metadata": {
        "colab": {
          "base_uri": "https://localhost:8080/",
          "height": 363
        },
        "id": "_OM2HzFWT2bx",
        "outputId": "70db345e-661e-4859-f99d-aecc66827c2d"
      },
      "source": [
        "# 51\r\n",
        "#  assert used to break the program \r\n",
        "#  if given data is wrong\r\n",
        "\r\n",
        "def divide(x, y):\r\n",
        "  assert y!=0 # validating\r\n",
        "  return x/y\r\n",
        "\r\n",
        "a = divide(100,10) # Ok\r\n",
        "print(a)\r\n",
        "\r\n",
        "b = divide(100,0) # Not Ok\r\n",
        "print(b)"
      ],
      "execution_count": null,
      "outputs": [
        {
          "output_type": "stream",
          "text": [
            "10.0\n"
          ],
          "name": "stdout"
        },
        {
          "output_type": "error",
          "ename": "AssertionError",
          "evalue": "ignored",
          "traceback": [
            "\u001b[0;31m---------------------------------------------------------------------------\u001b[0m",
            "\u001b[0;31mAssertionError\u001b[0m                            Traceback (most recent call last)",
            "\u001b[0;32m<ipython-input-76-825ecfd5e985>\u001b[0m in \u001b[0;36m<module>\u001b[0;34m()\u001b[0m\n\u001b[1;32m     10\u001b[0m \u001b[0mprint\u001b[0m\u001b[0;34m(\u001b[0m\u001b[0ma\u001b[0m\u001b[0;34m)\u001b[0m\u001b[0;34m\u001b[0m\u001b[0;34m\u001b[0m\u001b[0m\n\u001b[1;32m     11\u001b[0m \u001b[0;34m\u001b[0m\u001b[0m\n\u001b[0;32m---> 12\u001b[0;31m \u001b[0mb\u001b[0m \u001b[0;34m=\u001b[0m \u001b[0mdivide\u001b[0m\u001b[0;34m(\u001b[0m\u001b[0;36m100\u001b[0m\u001b[0;34m,\u001b[0m\u001b[0;36m0\u001b[0m\u001b[0;34m)\u001b[0m\u001b[0;34m\u001b[0m\u001b[0;34m\u001b[0m\u001b[0m\n\u001b[0m\u001b[1;32m     13\u001b[0m \u001b[0mprint\u001b[0m\u001b[0;34m(\u001b[0m\u001b[0mb\u001b[0m\u001b[0;34m)\u001b[0m\u001b[0;34m\u001b[0m\u001b[0;34m\u001b[0m\u001b[0m\n",
            "\u001b[0;32m<ipython-input-76-825ecfd5e985>\u001b[0m in \u001b[0;36mdivide\u001b[0;34m(x, y)\u001b[0m\n\u001b[1;32m      4\u001b[0m \u001b[0;34m\u001b[0m\u001b[0m\n\u001b[1;32m      5\u001b[0m \u001b[0;32mdef\u001b[0m \u001b[0mdivide\u001b[0m\u001b[0;34m(\u001b[0m\u001b[0mx\u001b[0m\u001b[0;34m,\u001b[0m \u001b[0my\u001b[0m\u001b[0;34m)\u001b[0m\u001b[0;34m:\u001b[0m\u001b[0;34m\u001b[0m\u001b[0;34m\u001b[0m\u001b[0m\n\u001b[0;32m----> 6\u001b[0;31m   \u001b[0;32massert\u001b[0m \u001b[0my\u001b[0m\u001b[0;34m!=\u001b[0m\u001b[0;36m0\u001b[0m \u001b[0;31m# validating\u001b[0m\u001b[0;34m\u001b[0m\u001b[0;34m\u001b[0m\u001b[0m\n\u001b[0m\u001b[1;32m      7\u001b[0m   \u001b[0;32mreturn\u001b[0m \u001b[0mx\u001b[0m\u001b[0;34m/\u001b[0m\u001b[0my\u001b[0m\u001b[0;34m\u001b[0m\u001b[0;34m\u001b[0m\u001b[0m\n\u001b[1;32m      8\u001b[0m \u001b[0;34m\u001b[0m\u001b[0m\n",
            "\u001b[0;31mAssertionError\u001b[0m: "
          ]
        }
      ]
    },
    {
      "cell_type": "code",
      "metadata": {
        "colab": {
          "base_uri": "https://localhost:8080/"
        },
        "id": "29On6q3FVAgF",
        "outputId": "407198a0-547e-46ab-9ae9-d3e9f80b5c6b"
      },
      "source": [
        "# gererate a non-repeater random ints\r\n",
        "from random import randint\r\n",
        "\r\n",
        "data = set() # we are using set() to avoid the duplication \r\n",
        "\r\n",
        "n = 0\r\n",
        "while n < 20:\r\n",
        "  r = randint(0, 100)\r\n",
        "  n+=1\r\n",
        "  data.add(r)\r\n",
        "\r\n",
        "print(len(data))\r\n",
        "print(data)"
      ],
      "execution_count": null,
      "outputs": [
        {
          "output_type": "stream",
          "text": [
            "19\n",
            "{0, 98, 58, 37, 68, 69, 72, 73, 41, 10, 76, 46, 78, 16, 85, 24, 89, 26, 60}\n"
          ],
          "name": "stdout"
        }
      ]
    }
  ]
}